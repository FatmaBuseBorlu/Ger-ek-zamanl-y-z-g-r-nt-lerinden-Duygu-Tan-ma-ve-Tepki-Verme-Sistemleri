{
  "nbformat": 4,
  "nbformat_minor": 0,
  "metadata": {
    "colab": {
      "provenance": [],
      "machine_shape": "hm",
      "gpuType": "A100",
      "include_colab_link": true
    },
    "kernelspec": {
      "name": "python3",
      "display_name": "Python 3"
    },
    "language_info": {
      "name": "python"
    },
    "accelerator": "GPU"
  },
  "cells": [
    {
      "cell_type": "markdown",
      "metadata": {
        "id": "view-in-github",
        "colab_type": "text"
      },
      "source": [
        "<a href=\"https://colab.research.google.com/github/FatmaBuseBorlu/YuzGoruntulerindenDuyguTanimaveTepkiVerme/blob/main/Yapay%20Zeka%202.ipynb\" target=\"_parent\"><img src=\"https://colab.research.google.com/assets/colab-badge.svg\" alt=\"Open In Colab\"/></a>"
      ]
    },
    {
      "cell_type": "code",
      "source": [
        "import os\n",
        "import numpy as np\n",
        "import pandas as pd\n",
        "import matplotlib.pyplot as plt\n",
        "from tensorflow.keras.preprocessing.image import ImageDataGenerator, load_img, img_to_array\n",
        "from tensorflow.keras.applications import MobileNetV2\n",
        "from tensorflow.keras.applications.mobilenet_v2 import preprocess_input\n",
        "from tensorflow.keras.models import Sequential, Model, load_model\n",
        "from tensorflow.keras.layers import Dense, Dropout, GlobalAveragePooling2D\n",
        "from tensorflow.keras.utils import to_categorical\n",
        "from sklearn.utils.class_weight import compute_class_weight\n",
        "from sklearn.metrics import confusion_matrix, classification_report\n",
        "import seaborn as sns"
      ],
      "metadata": {
        "id": "P2GtLVilOFhi"
      },
      "execution_count": 39,
      "outputs": []
    },
    {
      "cell_type": "code",
      "source": [
        "from google.colab import files\n",
        "import zipfile\n",
        "import os\n",
        "\n",
        "# Yerel bilgisayardan dosya yükleme\n",
        "uploaded = files.upload()\n",
        "\n",
        "# Yüklenen dosyayı kontrol etme\n",
        "for file_name in uploaded.keys():\n",
        "    print(f\"Yüklendi: {file_name}\")\n",
        "\n",
        "    # Eğer dosya bir ZIP ise, çıkar\n",
        "    if file_name.endswith(\".zip\"):\n",
        "        with zipfile.ZipFile(file_name, 'r') as zip_ref:\n",
        "            zip_ref.extractall()  # Varsayılan dizine çıkarır\n",
        "            print(f\"{file_name} başarıyla çıkarıldı.\")"
      ],
      "metadata": {
        "colab": {
          "base_uri": "https://localhost:8080/",
          "height": 107
        },
        "id": "SYBqtlJkVbSD",
        "outputId": "6ed7c9b8-17d6-4139-fd6b-a4b5b5c05a38"
      },
      "execution_count": 40,
      "outputs": [
        {
          "output_type": "display_data",
          "data": {
            "text/plain": [
              "<IPython.core.display.HTML object>"
            ],
            "text/html": [
              "\n",
              "     <input type=\"file\" id=\"files-85c08fb4-0cb2-4d01-91bc-3579c8c225f7\" name=\"files[]\" multiple disabled\n",
              "        style=\"border:none\" />\n",
              "     <output id=\"result-85c08fb4-0cb2-4d01-91bc-3579c8c225f7\">\n",
              "      Upload widget is only available when the cell has been executed in the\n",
              "      current browser session. Please rerun this cell to enable.\n",
              "      </output>\n",
              "      <script>// Copyright 2017 Google LLC\n",
              "//\n",
              "// Licensed under the Apache License, Version 2.0 (the \"License\");\n",
              "// you may not use this file except in compliance with the License.\n",
              "// You may obtain a copy of the License at\n",
              "//\n",
              "//      http://www.apache.org/licenses/LICENSE-2.0\n",
              "//\n",
              "// Unless required by applicable law or agreed to in writing, software\n",
              "// distributed under the License is distributed on an \"AS IS\" BASIS,\n",
              "// WITHOUT WARRANTIES OR CONDITIONS OF ANY KIND, either express or implied.\n",
              "// See the License for the specific language governing permissions and\n",
              "// limitations under the License.\n",
              "\n",
              "/**\n",
              " * @fileoverview Helpers for google.colab Python module.\n",
              " */\n",
              "(function(scope) {\n",
              "function span(text, styleAttributes = {}) {\n",
              "  const element = document.createElement('span');\n",
              "  element.textContent = text;\n",
              "  for (const key of Object.keys(styleAttributes)) {\n",
              "    element.style[key] = styleAttributes[key];\n",
              "  }\n",
              "  return element;\n",
              "}\n",
              "\n",
              "// Max number of bytes which will be uploaded at a time.\n",
              "const MAX_PAYLOAD_SIZE = 100 * 1024;\n",
              "\n",
              "function _uploadFiles(inputId, outputId) {\n",
              "  const steps = uploadFilesStep(inputId, outputId);\n",
              "  const outputElement = document.getElementById(outputId);\n",
              "  // Cache steps on the outputElement to make it available for the next call\n",
              "  // to uploadFilesContinue from Python.\n",
              "  outputElement.steps = steps;\n",
              "\n",
              "  return _uploadFilesContinue(outputId);\n",
              "}\n",
              "\n",
              "// This is roughly an async generator (not supported in the browser yet),\n",
              "// where there are multiple asynchronous steps and the Python side is going\n",
              "// to poll for completion of each step.\n",
              "// This uses a Promise to block the python side on completion of each step,\n",
              "// then passes the result of the previous step as the input to the next step.\n",
              "function _uploadFilesContinue(outputId) {\n",
              "  const outputElement = document.getElementById(outputId);\n",
              "  const steps = outputElement.steps;\n",
              "\n",
              "  const next = steps.next(outputElement.lastPromiseValue);\n",
              "  return Promise.resolve(next.value.promise).then((value) => {\n",
              "    // Cache the last promise value to make it available to the next\n",
              "    // step of the generator.\n",
              "    outputElement.lastPromiseValue = value;\n",
              "    return next.value.response;\n",
              "  });\n",
              "}\n",
              "\n",
              "/**\n",
              " * Generator function which is called between each async step of the upload\n",
              " * process.\n",
              " * @param {string} inputId Element ID of the input file picker element.\n",
              " * @param {string} outputId Element ID of the output display.\n",
              " * @return {!Iterable<!Object>} Iterable of next steps.\n",
              " */\n",
              "function* uploadFilesStep(inputId, outputId) {\n",
              "  const inputElement = document.getElementById(inputId);\n",
              "  inputElement.disabled = false;\n",
              "\n",
              "  const outputElement = document.getElementById(outputId);\n",
              "  outputElement.innerHTML = '';\n",
              "\n",
              "  const pickedPromise = new Promise((resolve) => {\n",
              "    inputElement.addEventListener('change', (e) => {\n",
              "      resolve(e.target.files);\n",
              "    });\n",
              "  });\n",
              "\n",
              "  const cancel = document.createElement('button');\n",
              "  inputElement.parentElement.appendChild(cancel);\n",
              "  cancel.textContent = 'Cancel upload';\n",
              "  const cancelPromise = new Promise((resolve) => {\n",
              "    cancel.onclick = () => {\n",
              "      resolve(null);\n",
              "    };\n",
              "  });\n",
              "\n",
              "  // Wait for the user to pick the files.\n",
              "  const files = yield {\n",
              "    promise: Promise.race([pickedPromise, cancelPromise]),\n",
              "    response: {\n",
              "      action: 'starting',\n",
              "    }\n",
              "  };\n",
              "\n",
              "  cancel.remove();\n",
              "\n",
              "  // Disable the input element since further picks are not allowed.\n",
              "  inputElement.disabled = true;\n",
              "\n",
              "  if (!files) {\n",
              "    return {\n",
              "      response: {\n",
              "        action: 'complete',\n",
              "      }\n",
              "    };\n",
              "  }\n",
              "\n",
              "  for (const file of files) {\n",
              "    const li = document.createElement('li');\n",
              "    li.append(span(file.name, {fontWeight: 'bold'}));\n",
              "    li.append(span(\n",
              "        `(${file.type || 'n/a'}) - ${file.size} bytes, ` +\n",
              "        `last modified: ${\n",
              "            file.lastModifiedDate ? file.lastModifiedDate.toLocaleDateString() :\n",
              "                                    'n/a'} - `));\n",
              "    const percent = span('0% done');\n",
              "    li.appendChild(percent);\n",
              "\n",
              "    outputElement.appendChild(li);\n",
              "\n",
              "    const fileDataPromise = new Promise((resolve) => {\n",
              "      const reader = new FileReader();\n",
              "      reader.onload = (e) => {\n",
              "        resolve(e.target.result);\n",
              "      };\n",
              "      reader.readAsArrayBuffer(file);\n",
              "    });\n",
              "    // Wait for the data to be ready.\n",
              "    let fileData = yield {\n",
              "      promise: fileDataPromise,\n",
              "      response: {\n",
              "        action: 'continue',\n",
              "      }\n",
              "    };\n",
              "\n",
              "    // Use a chunked sending to avoid message size limits. See b/62115660.\n",
              "    let position = 0;\n",
              "    do {\n",
              "      const length = Math.min(fileData.byteLength - position, MAX_PAYLOAD_SIZE);\n",
              "      const chunk = new Uint8Array(fileData, position, length);\n",
              "      position += length;\n",
              "\n",
              "      const base64 = btoa(String.fromCharCode.apply(null, chunk));\n",
              "      yield {\n",
              "        response: {\n",
              "          action: 'append',\n",
              "          file: file.name,\n",
              "          data: base64,\n",
              "        },\n",
              "      };\n",
              "\n",
              "      let percentDone = fileData.byteLength === 0 ?\n",
              "          100 :\n",
              "          Math.round((position / fileData.byteLength) * 100);\n",
              "      percent.textContent = `${percentDone}% done`;\n",
              "\n",
              "    } while (position < fileData.byteLength);\n",
              "  }\n",
              "\n",
              "  // All done.\n",
              "  yield {\n",
              "    response: {\n",
              "      action: 'complete',\n",
              "    }\n",
              "  };\n",
              "}\n",
              "\n",
              "scope.google = scope.google || {};\n",
              "scope.google.colab = scope.google.colab || {};\n",
              "scope.google.colab._files = {\n",
              "  _uploadFiles,\n",
              "  _uploadFilesContinue,\n",
              "};\n",
              "})(self);\n",
              "</script> "
            ]
          },
          "metadata": {}
        },
        {
          "output_type": "stream",
          "name": "stdout",
          "text": [
            "Saving RAF-DB-DATASET.zip to RAF-DB-DATASET (2).zip\n",
            "Yüklendi: RAF-DB-DATASET (2).zip\n",
            "RAF-DB-DATASET (2).zip başarıyla çıkarıldı.\n"
          ]
        }
      ]
    },
    {
      "cell_type": "code",
      "source": [
        "# Çalışma dizinindeki dosyaları listeleme\n",
        "print(os.listdir())\n",
        "\n",
        "# Çıkarılan veri seti klasörünün içeriğini listeleme\n",
        "print(os.listdir(\"RAF-DB-DATASET/DATASET/test\"))"
      ],
      "metadata": {
        "id": "JxN5KjCKZ1Nw",
        "colab": {
          "base_uri": "https://localhost:8080/"
        },
        "outputId": "e94b3e11-2c92-403b-b040-5026568cfbc3"
      },
      "execution_count": 41,
      "outputs": [
        {
          "output_type": "stream",
          "name": "stdout",
          "text": [
            "['.config', 'RAF-DB-DATASET', 'emotion_recognition_mobilenetv2.h5', 'RAF-DB-DATASET (2).zip', 'RAF-DB-DATASET.zip', 'RAF-DB-DATASET (1).zip', 'sample_data']\n",
            "['3', '4', '1', '6', '2', '7', '5']\n"
          ]
        }
      ]
    },
    {
      "cell_type": "code",
      "source": [
        "# Eğitim ve test veri yolları\n",
        "train_dir = \"/content/RAF-DB-DATASET/DATASET/test\"\n",
        "test_dir = \"/content/RAF-DB-DATASET/DATASET/test\""
      ],
      "metadata": {
        "id": "MCbFVdxU8z06"
      },
      "execution_count": 42,
      "outputs": []
    },
    {
      "cell_type": "code",
      "source": [
        "# Veri yükleme fonksiyonu\n",
        "def load_data(directory):\n",
        "    X, y = [], []\n",
        "    for label in os.listdir(directory):\n",
        "        label_path = os.path.join(directory, label)\n",
        "        if os.path.isdir(label_path):\n",
        "            for image_name in os.listdir(label_path):\n",
        "                image_path = os.path.join(label_path, image_name)\n",
        "                img = load_img(image_path, target_size=(224, 224))\n",
        "                img_array = img_to_array(img)\n",
        "                img_array = preprocess_input(img_array)  # MobileNetV2 için ön işleme\n",
        "                X.append(img_array)\n",
        "                y.append(int(label))\n",
        "    return np.array(X), np.array(y)\n",
        "\n",
        "# Eğitim ve test verilerini yükleme\n",
        "X_train, y_train = load_data(train_dir)\n",
        "X_test, y_test = load_data(test_dir)"
      ],
      "metadata": {
        "id": "AOd_ob3883xy"
      },
      "execution_count": 43,
      "outputs": []
    },
    {
      "cell_type": "code",
      "source": [
        "# Etiketleri 0'dan başlatma\n",
        "y_train -= 1\n",
        "y_test -= 1\n",
        "\n",
        "# Sınıf sayısını belirleme\n",
        "num_classes = len(np.unique(y_train))\n",
        "\n",
        "# Etiketleri kategorik hale getirme\n",
        "y_train = to_categorical(y_train, num_classes)\n",
        "y_test = to_categorical(y_test, num_classes)\n",
        "\n",
        "print(f\"Eğitim verileri: {X_train.shape}, Etiketler: {y_train.shape}\")\n",
        "print(f\"Test verileri: {X_test.shape}, Etiketler: {y_test.shape}\")"
      ],
      "metadata": {
        "id": "dp_q1m-z87zN",
        "colab": {
          "base_uri": "https://localhost:8080/"
        },
        "outputId": "cec04c31-9a04-45b4-d367-6c24a3d6d531"
      },
      "execution_count": 44,
      "outputs": [
        {
          "output_type": "stream",
          "name": "stdout",
          "text": [
            "Eğitim verileri: (3068, 224, 224, 3), Etiketler: (3068, 7)\n",
            "Test verileri: (3068, 224, 224, 3), Etiketler: (3068, 7)\n"
          ]
        }
      ]
    },
    {
      "cell_type": "code",
      "source": [
        "# Veri artırma\n",
        "data_augmentation = ImageDataGenerator(\n",
        "    rotation_range=30,  # Daha büyük dönüş açısı\n",
        "    width_shift_range=0.3,  # Daha geniş kaydırma\n",
        "    height_shift_range=0.3,\n",
        "    shear_range=0.2,  # Kesme işlemi\n",
        "    zoom_range=0.3,  # Daha geniş zoom aralığı\n",
        "    horizontal_flip=True,\n",
        "    brightness_range=[0.8, 1.2],  # Parlaklık değişikliği\n",
        "    fill_mode=\"nearest\"\n",
        ")"
      ],
      "metadata": {
        "id": "PjWx07gM8boE"
      },
      "execution_count": 45,
      "outputs": []
    },
    {
      "cell_type": "code",
      "source": [
        "# MobileNetV2 tabanlı model oluşturma\n",
        "base_model = MobileNetV2(weights=\"imagenet\", include_top=False, input_shape=(224, 224, 3))\n",
        "base_model.trainable = True\n",
        "for layer in base_model.layers:\n",
        "    layer.trainable = True\n",
        "\n",
        "# Modelin son katmanlarını ekleme\n",
        "model = Sequential([\n",
        "    base_model,\n",
        "    GlobalAveragePooling2D(),\n",
        "    Dense(512, activation='relu'),  # Daha büyük bir katman\n",
        "    Dropout(0.5),\n",
        "    Dense(256, activation='relu'),\n",
        "    Dropout(0.5),\n",
        "    Dense(num_classes, activation='softmax')\n",
        "])\n",
        "\n",
        "# Modeli derleme\n",
        "from tensorflow.keras.optimizers import Adam\n",
        "\n",
        "model.compile(optimizer=Adam(learning_rate=0.0001),\n",
        "              loss='categorical_crossentropy',\n",
        "              metrics=['accuracy'])"
      ],
      "metadata": {
        "id": "2Vl1x3Wm9b5E"
      },
      "execution_count": 46,
      "outputs": []
    },
    {
      "cell_type": "code",
      "source": [
        "# Sınıf ağırlıklarını hesaplama\n",
        "y_train_labels = np.argmax(y_train, axis=1)\n",
        "class_weights = compute_class_weight(\n",
        "    class_weight='balanced',\n",
        "    classes=np.unique(y_train_labels),\n",
        "    y=y_train_labels\n",
        ")\n",
        "class_weights = dict(enumerate(class_weights))\n",
        "\n",
        "print(\"Sınıf Ağırlıkları:\", class_weights)"
      ],
      "metadata": {
        "id": "m6TmW8unMVbi",
        "colab": {
          "base_uri": "https://localhost:8080/"
        },
        "outputId": "c09245e9-c271-4f9b-aa1e-cba294772367"
      },
      "execution_count": 47,
      "outputs": [
        {
          "output_type": "stream",
          "name": "stdout",
          "text": [
            "Sınıf Ağırlıkları: {0: 1.3321754233608336, 1: 5.922779922779923, 2: 2.7392857142857143, 3: 0.3698613622664256, 4: 0.9169157202630006, 5: 2.7054673721340388, 6: 0.6445378151260505}\n"
          ]
        }
      ]
    },
    {
      "cell_type": "code",
      "source": [
        "# Callback'leri tanımlayın\n",
        "from tensorflow.keras.callbacks import EarlyStopping, ReduceLROnPlateau # Import ReduceLROnPlateau\n",
        "\n",
        "early_stopping = EarlyStopping(monitor='val_loss',\n",
        "                               patience=5,\n",
        "                               restore_best_weights=True)\n",
        "\n",
        "lr_reduction = ReduceLROnPlateau(monitor='val_loss',\n",
        "                                 patience=3,\n",
        "                                 verbose=1,\n",
        "                                 factor=0.5,\n",
        "                                 min_lr=1e-6)"
      ],
      "metadata": {
        "id": "ADf-C3r4OClh"
      },
      "execution_count": 48,
      "outputs": []
    },
    {
      "cell_type": "code",
      "source": [
        "# Modeli eğitme\n",
        "history = model.fit(\n",
        "    data_augmentation.flow(X_train, y_train, batch_size=32),\n",
        "    epochs=50,  # Epoch sayısını artırdık\n",
        "    validation_data=(X_test, y_test),\n",
        "    class_weight=class_weights,\n",
        "    callbacks=[lr_reduction, early_stopping]\n",
        ")\n",
        "\n",
        "# Eğitilen modeli kaydetme\n",
        "model.save(\"emotion_recognition_mobilenetv2.h5\")"
      ],
      "metadata": {
        "id": "UCCyGoOhRU2O",
        "colab": {
          "base_uri": "https://localhost:8080/"
        },
        "outputId": "ba8b9817-bb8f-4895-9b25-222e4a2b1c8f"
      },
      "execution_count": 49,
      "outputs": [
        {
          "output_type": "stream",
          "name": "stdout",
          "text": [
            "Epoch 1/50\n"
          ]
        },
        {
          "output_type": "stream",
          "name": "stderr",
          "text": [
            "/usr/local/lib/python3.10/dist-packages/keras/src/trainers/data_adapters/py_dataset_adapter.py:122: UserWarning: Your `PyDataset` class should call `super().__init__(**kwargs)` in its constructor. `**kwargs` can include `workers`, `use_multiprocessing`, `max_queue_size`. Do not pass these arguments to `fit()`, as they will be ignored.\n",
            "  self._warn_if_super_not_called()\n"
          ]
        },
        {
          "output_type": "stream",
          "name": "stdout",
          "text": [
            "\u001b[1m96/96\u001b[0m \u001b[32m━━━━━━━━━━━━━━━━━━━━\u001b[0m\u001b[37m\u001b[0m \u001b[1m112s\u001b[0m 684ms/step - accuracy: 0.1441 - loss: 2.2132 - val_accuracy: 0.3422 - val_loss: 1.7661 - learning_rate: 1.0000e-04\n",
            "Epoch 2/50\n",
            "\u001b[1m96/96\u001b[0m \u001b[32m━━━━━━━━━━━━━━━━━━━━\u001b[0m\u001b[37m\u001b[0m \u001b[1m40s\u001b[0m 389ms/step - accuracy: 0.1887 - loss: 1.9369 - val_accuracy: 0.3791 - val_loss: 1.7196 - learning_rate: 1.0000e-04\n",
            "Epoch 3/50\n",
            "\u001b[1m96/96\u001b[0m \u001b[32m━━━━━━━━━━━━━━━━━━━━\u001b[0m\u001b[37m\u001b[0m \u001b[1m39s\u001b[0m 381ms/step - accuracy: 0.2112 - loss: 2.0006 - val_accuracy: 0.3758 - val_loss: 1.6930 - learning_rate: 1.0000e-04\n",
            "Epoch 4/50\n",
            "\u001b[1m96/96\u001b[0m \u001b[32m━━━━━━━━━━━━━━━━━━━━\u001b[0m\u001b[37m\u001b[0m \u001b[1m39s\u001b[0m 381ms/step - accuracy: 0.2555 - loss: 1.8292 - val_accuracy: 0.3647 - val_loss: 1.6858 - learning_rate: 1.0000e-04\n",
            "Epoch 5/50\n",
            "\u001b[1m96/96\u001b[0m \u001b[32m━━━━━━━━━━━━━━━━━━━━\u001b[0m\u001b[37m\u001b[0m \u001b[1m40s\u001b[0m 389ms/step - accuracy: 0.2527 - loss: 1.7632 - val_accuracy: 0.2924 - val_loss: 1.7918 - learning_rate: 1.0000e-04\n",
            "Epoch 6/50\n",
            "\u001b[1m96/96\u001b[0m \u001b[32m━━━━━━━━━━━━━━━━━━━━\u001b[0m\u001b[37m\u001b[0m \u001b[1m40s\u001b[0m 384ms/step - accuracy: 0.3020 - loss: 1.6930 - val_accuracy: 0.2875 - val_loss: 1.9242 - learning_rate: 1.0000e-04\n",
            "Epoch 7/50\n",
            "\u001b[1m95/96\u001b[0m \u001b[32m━━━━━━━━━━━━━━━━━━━\u001b[0m\u001b[37m━\u001b[0m \u001b[1m0s\u001b[0m 372ms/step - accuracy: 0.3333 - loss: 1.6452\n",
            "Epoch 7: ReduceLROnPlateau reducing learning rate to 4.999999873689376e-05.\n",
            "\u001b[1m96/96\u001b[0m \u001b[32m━━━━━━━━━━━━━━━━━━━━\u001b[0m\u001b[37m\u001b[0m \u001b[1m39s\u001b[0m 380ms/step - accuracy: 0.3333 - loss: 1.6458 - val_accuracy: 0.3054 - val_loss: 1.9583 - learning_rate: 1.0000e-04\n",
            "Epoch 8/50\n",
            "\u001b[1m96/96\u001b[0m \u001b[32m━━━━━━━━━━━━━━━━━━━━\u001b[0m\u001b[37m\u001b[0m \u001b[1m40s\u001b[0m 389ms/step - accuracy: 0.3879 - loss: 1.5146 - val_accuracy: 0.4211 - val_loss: 1.5956 - learning_rate: 5.0000e-05\n",
            "Epoch 9/50\n",
            "\u001b[1m96/96\u001b[0m \u001b[32m━━━━━━━━━━━━━━━━━━━━\u001b[0m\u001b[37m\u001b[0m \u001b[1m40s\u001b[0m 387ms/step - accuracy: 0.3753 - loss: 1.5218 - val_accuracy: 0.4713 - val_loss: 1.4103 - learning_rate: 5.0000e-05\n",
            "Epoch 10/50\n",
            "\u001b[1m96/96\u001b[0m \u001b[32m━━━━━━━━━━━━━━━━━━━━\u001b[0m\u001b[37m\u001b[0m \u001b[1m39s\u001b[0m 380ms/step - accuracy: 0.3846 - loss: 1.4865 - val_accuracy: 0.4804 - val_loss: 1.4286 - learning_rate: 5.0000e-05\n",
            "Epoch 11/50\n",
            "\u001b[1m96/96\u001b[0m \u001b[32m━━━━━━━━━━━━━━━━━━━━\u001b[0m\u001b[37m\u001b[0m \u001b[1m39s\u001b[0m 382ms/step - accuracy: 0.4154 - loss: 1.4372 - val_accuracy: 0.4739 - val_loss: 1.4648 - learning_rate: 5.0000e-05\n",
            "Epoch 12/50\n",
            "\u001b[1m96/96\u001b[0m \u001b[32m━━━━━━━━━━━━━━━━━━━━\u001b[0m\u001b[37m\u001b[0m \u001b[1m40s\u001b[0m 390ms/step - accuracy: 0.4395 - loss: 1.3618 - val_accuracy: 0.5101 - val_loss: 1.3300 - learning_rate: 5.0000e-05\n",
            "Epoch 13/50\n",
            "\u001b[1m96/96\u001b[0m \u001b[32m━━━━━━━━━━━━━━━━━━━━\u001b[0m\u001b[37m\u001b[0m \u001b[1m40s\u001b[0m 384ms/step - accuracy: 0.4291 - loss: 1.3825 - val_accuracy: 0.5212 - val_loss: 1.3104 - learning_rate: 5.0000e-05\n",
            "Epoch 14/50\n",
            "\u001b[1m96/96\u001b[0m \u001b[32m━━━━━━━━━━━━━━━━━━━━\u001b[0m\u001b[37m\u001b[0m \u001b[1m39s\u001b[0m 381ms/step - accuracy: 0.4738 - loss: 1.3387 - val_accuracy: 0.5538 - val_loss: 1.2054 - learning_rate: 5.0000e-05\n",
            "Epoch 15/50\n",
            "\u001b[1m96/96\u001b[0m \u001b[32m━━━━━━━━━━━━━━━━━━━━\u001b[0m\u001b[37m\u001b[0m \u001b[1m40s\u001b[0m 385ms/step - accuracy: 0.4840 - loss: 1.3586 - val_accuracy: 0.5763 - val_loss: 1.1783 - learning_rate: 5.0000e-05\n",
            "Epoch 16/50\n",
            "\u001b[1m96/96\u001b[0m \u001b[32m━━━━━━━━━━━━━━━━━━━━\u001b[0m\u001b[37m\u001b[0m \u001b[1m40s\u001b[0m 387ms/step - accuracy: 0.4901 - loss: 1.3024 - val_accuracy: 0.5867 - val_loss: 1.1281 - learning_rate: 5.0000e-05\n",
            "Epoch 17/50\n",
            "\u001b[1m96/96\u001b[0m \u001b[32m━━━━━━━━━━━━━━━━━━━━\u001b[0m\u001b[37m\u001b[0m \u001b[1m39s\u001b[0m 381ms/step - accuracy: 0.5294 - loss: 1.2049 - val_accuracy: 0.6046 - val_loss: 1.1124 - learning_rate: 5.0000e-05\n",
            "Epoch 18/50\n",
            "\u001b[1m96/96\u001b[0m \u001b[32m━━━━━━━━━━━━━━━━━━━━\u001b[0m\u001b[37m\u001b[0m \u001b[1m39s\u001b[0m 379ms/step - accuracy: 0.4957 - loss: 1.2790 - val_accuracy: 0.6304 - val_loss: 1.0383 - learning_rate: 5.0000e-05\n",
            "Epoch 19/50\n",
            "\u001b[1m96/96\u001b[0m \u001b[32m━━━━━━━━━━━━━━━━━━━━\u001b[0m\u001b[37m\u001b[0m \u001b[1m40s\u001b[0m 389ms/step - accuracy: 0.5085 - loss: 1.1354 - val_accuracy: 0.6555 - val_loss: 0.9794 - learning_rate: 5.0000e-05\n",
            "Epoch 20/50\n",
            "\u001b[1m96/96\u001b[0m \u001b[32m━━━━━━━━━━━━━━━━━━━━\u001b[0m\u001b[37m\u001b[0m \u001b[1m40s\u001b[0m 383ms/step - accuracy: 0.5095 - loss: 1.2526 - val_accuracy: 0.6793 - val_loss: 0.9062 - learning_rate: 5.0000e-05\n",
            "Epoch 21/50\n",
            "\u001b[1m96/96\u001b[0m \u001b[32m━━━━━━━━━━━━━━━━━━━━\u001b[0m\u001b[37m\u001b[0m \u001b[1m39s\u001b[0m 379ms/step - accuracy: 0.5576 - loss: 1.1135 - val_accuracy: 0.6842 - val_loss: 0.8837 - learning_rate: 5.0000e-05\n",
            "Epoch 22/50\n",
            "\u001b[1m96/96\u001b[0m \u001b[32m━━━━━━━━━━━━━━━━━━━━\u001b[0m\u001b[37m\u001b[0m \u001b[1m40s\u001b[0m 383ms/step - accuracy: 0.5808 - loss: 1.0458 - val_accuracy: 0.6917 - val_loss: 0.8629 - learning_rate: 5.0000e-05\n",
            "Epoch 23/50\n",
            "\u001b[1m96/96\u001b[0m \u001b[32m━━━━━━━━━━━━━━━━━━━━\u001b[0m\u001b[37m\u001b[0m \u001b[1m40s\u001b[0m 387ms/step - accuracy: 0.5732 - loss: 1.0292 - val_accuracy: 0.6995 - val_loss: 0.8075 - learning_rate: 5.0000e-05\n",
            "Epoch 24/50\n",
            "\u001b[1m96/96\u001b[0m \u001b[32m━━━━━━━━━━━━━━━━━━━━\u001b[0m\u001b[37m\u001b[0m \u001b[1m39s\u001b[0m 380ms/step - accuracy: 0.5964 - loss: 1.0015 - val_accuracy: 0.6923 - val_loss: 0.8663 - learning_rate: 5.0000e-05\n",
            "Epoch 25/50\n",
            "\u001b[1m96/96\u001b[0m \u001b[32m━━━━━━━━━━━━━━━━━━━━\u001b[0m\u001b[37m\u001b[0m \u001b[1m39s\u001b[0m 378ms/step - accuracy: 0.6040 - loss: 0.9514 - val_accuracy: 0.6780 - val_loss: 0.8604 - learning_rate: 5.0000e-05\n",
            "Epoch 26/50\n",
            "\u001b[1m95/96\u001b[0m \u001b[32m━━━━━━━━━━━━━━━━━━━\u001b[0m\u001b[37m━\u001b[0m \u001b[1m0s\u001b[0m 380ms/step - accuracy: 0.6076 - loss: 0.9614\n",
            "Epoch 26: ReduceLROnPlateau reducing learning rate to 2.499999936844688e-05.\n",
            "\u001b[1m96/96\u001b[0m \u001b[32m━━━━━━━━━━━━━━━━━━━━\u001b[0m\u001b[37m\u001b[0m \u001b[1m40s\u001b[0m 389ms/step - accuracy: 0.6076 - loss: 0.9617 - val_accuracy: 0.7031 - val_loss: 0.8128 - learning_rate: 5.0000e-05\n",
            "Epoch 27/50\n",
            "\u001b[1m96/96\u001b[0m \u001b[32m━━━━━━━━━━━━━━━━━━━━\u001b[0m\u001b[37m\u001b[0m \u001b[1m40s\u001b[0m 384ms/step - accuracy: 0.6300 - loss: 0.8956 - val_accuracy: 0.7057 - val_loss: 0.8027 - learning_rate: 2.5000e-05\n",
            "Epoch 28/50\n",
            "\u001b[1m96/96\u001b[0m \u001b[32m━━━━━━━━━━━━━━━━━━━━\u001b[0m\u001b[37m\u001b[0m \u001b[1m39s\u001b[0m 380ms/step - accuracy: 0.6311 - loss: 0.9230 - val_accuracy: 0.7076 - val_loss: 0.8093 - learning_rate: 2.5000e-05\n",
            "Epoch 29/50\n",
            "\u001b[1m96/96\u001b[0m \u001b[32m━━━━━━━━━━━━━━━━━━━━\u001b[0m\u001b[37m\u001b[0m \u001b[1m40s\u001b[0m 390ms/step - accuracy: 0.6462 - loss: 0.8717 - val_accuracy: 0.7177 - val_loss: 0.7805 - learning_rate: 2.5000e-05\n",
            "Epoch 30/50\n",
            "\u001b[1m96/96\u001b[0m \u001b[32m━━━━━━━━━━━━━━━━━━━━\u001b[0m\u001b[37m\u001b[0m \u001b[1m40s\u001b[0m 389ms/step - accuracy: 0.6527 - loss: 0.8226 - val_accuracy: 0.7366 - val_loss: 0.7486 - learning_rate: 2.5000e-05\n",
            "Epoch 31/50\n",
            "\u001b[1m96/96\u001b[0m \u001b[32m━━━━━━━━━━━━━━━━━━━━\u001b[0m\u001b[37m\u001b[0m \u001b[1m40s\u001b[0m 385ms/step - accuracy: 0.6565 - loss: 0.8508 - val_accuracy: 0.7246 - val_loss: 0.7607 - learning_rate: 2.5000e-05\n",
            "Epoch 32/50\n",
            "\u001b[1m96/96\u001b[0m \u001b[32m━━━━━━━━━━━━━━━━━━━━\u001b[0m\u001b[37m\u001b[0m \u001b[1m39s\u001b[0m 381ms/step - accuracy: 0.6465 - loss: 0.8566 - val_accuracy: 0.7458 - val_loss: 0.7173 - learning_rate: 2.5000e-05\n",
            "Epoch 33/50\n",
            "\u001b[1m96/96\u001b[0m \u001b[32m━━━━━━━━━━━━━━━━━━━━\u001b[0m\u001b[37m\u001b[0m \u001b[1m40s\u001b[0m 390ms/step - accuracy: 0.6618 - loss: 0.8033 - val_accuracy: 0.7480 - val_loss: 0.7145 - learning_rate: 2.5000e-05\n",
            "Epoch 34/50\n",
            "\u001b[1m96/96\u001b[0m \u001b[32m━━━━━━━━━━━━━━━━━━━━\u001b[0m\u001b[37m\u001b[0m \u001b[1m40s\u001b[0m 384ms/step - accuracy: 0.6722 - loss: 0.7871 - val_accuracy: 0.7402 - val_loss: 0.7353 - learning_rate: 2.5000e-05\n",
            "Epoch 35/50\n",
            "\u001b[1m96/96\u001b[0m \u001b[32m━━━━━━━━━━━━━━━━━━━━\u001b[0m\u001b[37m\u001b[0m \u001b[1m40s\u001b[0m 383ms/step - accuracy: 0.6691 - loss: 0.7700 - val_accuracy: 0.7555 - val_loss: 0.6855 - learning_rate: 2.5000e-05\n",
            "Epoch 36/50\n",
            "\u001b[1m96/96\u001b[0m \u001b[32m━━━━━━━━━━━━━━━━━━━━\u001b[0m\u001b[37m\u001b[0m \u001b[1m40s\u001b[0m 386ms/step - accuracy: 0.6818 - loss: 0.7306 - val_accuracy: 0.7643 - val_loss: 0.6620 - learning_rate: 2.5000e-05\n",
            "Epoch 37/50\n",
            "\u001b[1m96/96\u001b[0m \u001b[32m━━━━━━━━━━━━━━━━━━━━\u001b[0m\u001b[37m\u001b[0m \u001b[1m40s\u001b[0m 389ms/step - accuracy: 0.6831 - loss: 0.7701 - val_accuracy: 0.7728 - val_loss: 0.6485 - learning_rate: 2.5000e-05\n",
            "Epoch 38/50\n",
            "\u001b[1m96/96\u001b[0m \u001b[32m━━━━━━━━━━━━━━━━━━━━\u001b[0m\u001b[37m\u001b[0m \u001b[1m40s\u001b[0m 384ms/step - accuracy: 0.7055 - loss: 0.7314 - val_accuracy: 0.7872 - val_loss: 0.6147 - learning_rate: 2.5000e-05\n",
            "Epoch 39/50\n",
            "\u001b[1m96/96\u001b[0m \u001b[32m━━━━━━━━━━━━━━━━━━━━\u001b[0m\u001b[37m\u001b[0m \u001b[1m40s\u001b[0m 389ms/step - accuracy: 0.7001 - loss: 0.6959 - val_accuracy: 0.7405 - val_loss: 0.7524 - learning_rate: 2.5000e-05\n",
            "Epoch 40/50\n",
            "\u001b[1m96/96\u001b[0m \u001b[32m━━━━━━━━━━━━━━━━━━━━\u001b[0m\u001b[37m\u001b[0m \u001b[1m41s\u001b[0m 396ms/step - accuracy: 0.7127 - loss: 0.6887 - val_accuracy: 0.7500 - val_loss: 0.7294 - learning_rate: 2.5000e-05\n",
            "Epoch 41/50\n",
            "\u001b[1m95/96\u001b[0m \u001b[32m━━━━━━━━━━━━━━━━━━━\u001b[0m\u001b[37m━\u001b[0m \u001b[1m0s\u001b[0m 381ms/step - accuracy: 0.6976 - loss: 0.7416\n",
            "Epoch 41: ReduceLROnPlateau reducing learning rate to 1.249999968422344e-05.\n",
            "\u001b[1m96/96\u001b[0m \u001b[32m━━━━━━━━━━━━━━━━━━━━\u001b[0m\u001b[37m\u001b[0m \u001b[1m40s\u001b[0m 390ms/step - accuracy: 0.6978 - loss: 0.7409 - val_accuracy: 0.7510 - val_loss: 0.6972 - learning_rate: 2.5000e-05\n",
            "Epoch 42/50\n",
            "\u001b[1m96/96\u001b[0m \u001b[32m━━━━━━━━━━━━━━━━━━━━\u001b[0m\u001b[37m\u001b[0m \u001b[1m40s\u001b[0m 386ms/step - accuracy: 0.6966 - loss: 0.7228 - val_accuracy: 0.7647 - val_loss: 0.6623 - learning_rate: 1.2500e-05\n",
            "Epoch 43/50\n",
            "\u001b[1m96/96\u001b[0m \u001b[32m━━━━━━━━━━━━━━━━━━━━\u001b[0m\u001b[37m\u001b[0m \u001b[1m40s\u001b[0m 392ms/step - accuracy: 0.7001 - loss: 0.6844 - val_accuracy: 0.7683 - val_loss: 0.6606 - learning_rate: 1.2500e-05\n"
          ]
        },
        {
          "output_type": "stream",
          "name": "stderr",
          "text": [
            "WARNING:absl:You are saving your model as an HDF5 file via `model.save()` or `keras.saving.save_model(model)`. This file format is considered legacy. We recommend using instead the native Keras format, e.g. `model.save('my_model.keras')` or `keras.saving.save_model(model, 'my_model.keras')`. \n"
          ]
        }
      ]
    },
    {
      "cell_type": "code",
      "source": [
        "# Modeli test etme\n",
        "test_loss, test_accuracy = model.evaluate(X_test, y_test)\n",
        "print(f\"Test Doğruluğu: {test_accuracy * 100:.2f}%\")"
      ],
      "metadata": {
        "id": "AJS3rnobmNRX",
        "colab": {
          "base_uri": "https://localhost:8080/"
        },
        "outputId": "d4dfbb71-a5d3-4cbf-84c4-fc77eb5b4096"
      },
      "execution_count": 50,
      "outputs": [
        {
          "output_type": "stream",
          "name": "stdout",
          "text": [
            "\u001b[1m96/96\u001b[0m \u001b[32m━━━━━━━━━━━━━━━━━━━━\u001b[0m\u001b[37m\u001b[0m \u001b[1m1s\u001b[0m 13ms/step - accuracy: 0.7867 - loss: 0.6120\n",
            "Test Doğruluğu: 78.72%\n"
          ]
        }
      ]
    },
    {
      "cell_type": "code",
      "source": [
        "# Modelin tahminlerini değerlendirme\n",
        "y_pred = model.predict(X_test)\n",
        "y_pred_classes = np.argmax(y_pred, axis=1)\n",
        "y_true_classes = np.argmax(y_test, axis=1)"
      ],
      "metadata": {
        "id": "8CRMTL21RWuY",
        "colab": {
          "base_uri": "https://localhost:8080/"
        },
        "outputId": "4f709b01-6a4a-48d8-f9c6-6042c96038c6"
      },
      "execution_count": 51,
      "outputs": [
        {
          "output_type": "stream",
          "name": "stdout",
          "text": [
            "\u001b[1m96/96\u001b[0m \u001b[32m━━━━━━━━━━━━━━━━━━━━\u001b[0m\u001b[37m\u001b[0m \u001b[1m7s\u001b[0m 41ms/step\n"
          ]
        }
      ]
    },
    {
      "cell_type": "code",
      "source": [
        "# Hata Matrisi ve Sınıflandırma Raporu\n",
        "cm = confusion_matrix(y_true_classes, y_pred_classes)\n",
        "print(\"Confusion Matrix:\\n\", cm)\n",
        "print(\"Classification Report:\\n\", classification_report(y_true_classes, y_pred_classes))"
      ],
      "metadata": {
        "id": "TuUDf7w4RYQm",
        "colab": {
          "base_uri": "https://localhost:8080/"
        },
        "outputId": "c8aa4052-399d-4e28-bb7a-b634247f401d"
      },
      "execution_count": 52,
      "outputs": [
        {
          "output_type": "stream",
          "name": "stdout",
          "text": [
            "Confusion Matrix:\n",
            " [[289  14   6   4   3   1  12]\n",
            " [  0  74   0   0   0   0   0]\n",
            " [  1   1 134   5   6   2  11]\n",
            " [ 18  29  60 889  80  29  80]\n",
            " [  8   4  29   6 386   6  39]\n",
            " [  0   3   3   0   3 152   1]\n",
            " [ 22   4  65  31  59   8 491]]\n",
            "Classification Report:\n",
            "               precision    recall  f1-score   support\n",
            "\n",
            "           0       0.86      0.88      0.87       329\n",
            "           1       0.57      1.00      0.73        74\n",
            "           2       0.45      0.84      0.59       160\n",
            "           3       0.95      0.75      0.84      1185\n",
            "           4       0.72      0.81      0.76       478\n",
            "           5       0.77      0.94      0.84       162\n",
            "           6       0.77      0.72      0.75       680\n",
            "\n",
            "    accuracy                           0.79      3068\n",
            "   macro avg       0.73      0.85      0.77      3068\n",
            "weighted avg       0.82      0.79      0.79      3068\n",
            "\n"
          ]
        }
      ]
    },
    {
      "cell_type": "code",
      "source": [
        "# Confusion matrix görselleştirme\n",
        "import seaborn as sns\n",
        "plt.figure(figsize=(10, 8))\n",
        "sns.heatmap(cm, annot=True, fmt=\"d\", cmap=\"Blues\", xticklabels=range(num_classes), yticklabels=range(num_classes))\n",
        "plt.xlabel(\"Tahmin Edilen\")\n",
        "plt.ylabel(\"Gerçek\")\n",
        "plt.show()"
      ],
      "metadata": {
        "id": "kqx-_wJQRZfR",
        "colab": {
          "base_uri": "https://localhost:8080/",
          "height": 696
        },
        "outputId": "dbe9c95c-6fbb-4081-98e0-3dd02c0e0f96"
      },
      "execution_count": 53,
      "outputs": [
        {
          "output_type": "display_data",
          "data": {
            "text/plain": [
              "<Figure size 1000x800 with 2 Axes>"
            ],
            "image/png": "[encoded data removed]"
          },
          "metadata": {}
        }
      ]
    },
    {
      "cell_type": "code",
      "source": [
        "# Modeli yükleme\n",
        "model = load_model(\"emotion_recognition_mobilenetv2.h5\") # Change the filename to the correct one\n",
        "\n",
        "# Test CSV dosyasını yükleme\n",
        "test_csv_path = \"/content/RAF-DB-DATASET/test_labels.csv\"\n",
        "test_data = pd.read_csv(test_csv_path)\n",
        "\n",
        "# Rastgele bir görüntü seçme\n",
        "random_row = test_data.sample(n=1).iloc[0]\n",
        "test_image_name = random_row['image']\n",
        "correct_label = random_row['label']\n",
        "\n",
        "# Görüntü yolunu oluşturma\n",
        "test_image_path = os.path.join(\"/content/RAF-DB-DATASET/DATASET/test\", str(correct_label), test_image_name)\n",
        "print(f\"Test edilecek görüntü: {test_image_path}\")\n",
        "\n",
        "# Görüntüyü yükleme ve işleme\n",
        "img = load_img(test_image_path, target_size=(224, 224))  # Görüntüyü yükle ve boyutlandır\n",
        "img_array = img_to_array(img) / 255.0  # Normalizasyon\n",
        "img_array = np.expand_dims(img_array, axis=0)  # Modelin tahmini için batch boyutuna dönüştür\n",
        "\n",
        "# Görüntü üzerinde tahmin yapma\n",
        "predictions = model.predict(img_array)\n",
        "predicted_class = np.argmax(predictions)\n",
        "\n",
        "# Sınıf etiketleri\n",
        "emotion_labels = {0: \"Surprise\", 1: \"Fear\", 2: \"Disgust\", 3: \"Happy\", 4: \"Sad\", 5: \"Anger\", 6: \"Neutral\"}\n",
        "predicted_label = emotion_labels[predicted_class]\n",
        "\n",
        "# Tahminin görselleştirilmesi\n",
        "plt.imshow(load_img(test_image_path))  # Görüntüyü yükleyerek görselleştir\n",
        "plt.title(f\"Tahmin: {predicted_label}\")\n",
        "plt.axis(\"off\")\n",
        "plt.show()\n",
        "\n",
        "print(f\"Modelin tahmini: {predicted_label}\")"
      ],
      "metadata": {
        "id": "eL2_M8cgCf3R",
        "colab": {
          "base_uri": "https://localhost:8080/",
          "height": 517
        },
        "outputId": "34dea65a-f4f3-4ea9-8862-804af8cbcc96"
      },
      "execution_count": 54,
      "outputs": [
        {
          "output_type": "stream",
          "name": "stderr",
          "text": [
            "WARNING:absl:Compiled the loaded model, but the compiled metrics have yet to be built. `model.compile_metrics` will be empty until you train or evaluate the model.\n"
          ]
        },
        {
          "output_type": "stream",
          "name": "stdout",
          "text": [
            "Test edilecek görüntü: /content/RAF-DB-DATASET/DATASET/test/3/test_1390_aligned.jpg\n",
            "\u001b[1m1/1\u001b[0m \u001b[32m━━━━━━━━━━━━━━━━━━━━\u001b[0m\u001b[37m\u001b[0m \u001b[1m2s\u001b[0m 2s/step\n"
          ]
        },
        {
          "output_type": "display_data",
          "data": {
            "text/plain": [
              "<Figure size 640x480 with 1 Axes>"
            ],
            "image/png": "[encoded data removed]"
          },
          "metadata": {}
        },
        {
          "output_type": "stream",
          "name": "stdout",
          "text": [
            "Modelin tahmini: Disgust\n"
          ]
        }
      ]
    }
  ]
}