{
  "nbformat": 4,
  "nbformat_minor": 0,
  "metadata": {
    "colab": {
      "provenance": [],
      "gpuType": "V28",
      "machine_shape": "hm",
      "include_colab_link": true
    },
    "kernelspec": {
      "name": "python3",
      "display_name": "Python 3"
    },
    "language_info": {
      "name": "python"
    },
    "accelerator": "TPU"
  },
  "cells": [
    {
      "cell_type": "markdown",
      "metadata": {
        "id": "view-in-github",
        "colab_type": "text"
      },
      "source": [
        "<a href=\"https://colab.research.google.com/github/FatmaBuseBorlu/YuzGoruntulerindenDuyguTanimaveTepkiVerme/blob/main/Yapay_Zeka1.ipynb\" target=\"_parent\"><img src=\"https://colab.research.google.com/assets/colab-badge.svg\" alt=\"Open In Colab\"/></a>"
      ]
    },
    {
      "cell_type": "code",
      "source": [
        "import os\n",
        "import numpy as np\n",
        "import pandas as pd\n",
        "import matplotlib.pyplot as plt\n",
        "from tensorflow.keras.preprocessing.image import ImageDataGenerator, load_img, img_to_array\n",
        "from tensorflow.keras.applications import MobileNetV2\n",
        "from tensorflow.keras.applications.mobilenet_v2 import preprocess_input\n",
        "from tensorflow.keras.models import Sequential, Model, load_model\n",
        "from tensorflow.keras.layers import Dense, Dropout, GlobalAveragePooling2D\n",
        "from tensorflow.keras.utils import to_categorical\n",
        "from sklearn.utils.class_weight import compute_class_weight\n",
        "from sklearn.metrics import confusion_matrix, classification_report\n",
        "import seaborn as sns"
      ],
      "metadata": {
        "colab": {
          "base_uri": "https://localhost:8080/"
        },
        "id": "P2GtLVilOFhi",
        "outputId": "ddf2b0a9-1cc9-45be-d372-d739fd9b82bb"
      },
      "execution_count": null,
      "outputs": [
        {
          "output_type": "stream",
          "name": "stdout",
          "text": [
            "Mounted at /content/drive\n"
          ]
        }
      ]
    },
    {
      "cell_type": "code",
      "source": [
        "from google.colab import files\n",
        "import zipfile\n",
        "import os\n",
        "\n",
        "# Yerel bilgisayardan dosya yükleme\n",
        "uploaded = files.upload()\n",
        "\n",
        "# Yüklenen dosyayı kontrol etme\n",
        "for file_name in uploaded.keys():\n",
        "    print(f\"Yüklendi: {file_name}\")\n",
        "\n",
        "    # Eğer dosya bir ZIP ise, çıkar\n",
        "    if file_name.endswith(\".zip\"):\n",
        "        with zipfile.ZipFile(file_name, 'r') as zip_ref:\n",
        "            zip_ref.extractall()  # Varsayılan dizine çıkarır\n",
        "            print(f\"{file_name} başarıyla çıkarıldı.\")"
      ],
      "metadata": {
        "colab": {
          "base_uri": "https://localhost:8080/",
          "height": 110
        },
        "id": "SYBqtlJkVbSD",
        "outputId": "cee12029-2a69-4dae-af9d-f913a6ba87e8"
      },
      "execution_count": null,
      "outputs": [
        {
          "output_type": "display_data",
          "data": {
            "text/plain": [
              "<IPython.core.display.HTML object>"
            ],
            "text/html": [
              "\n",
              "     <input type=\"file\" id=\"files-f9dce888-a5eb-4f5e-9107-92a6f4f50425\" name=\"files[]\" multiple disabled\n",
              "        style=\"border:none\" />\n",
              "     <output id=\"result-f9dce888-a5eb-4f5e-9107-92a6f4f50425\">\n",
              "      Upload widget is only available when the cell has been executed in the\n",
              "      current browser session. Please rerun this cell to enable.\n",
              "      </output>\n",
              "      <script>// Copyright 2017 Google LLC\n",
              "//\n",
              "// Licensed under the Apache License, Version 2.0 (the \"License\");\n",
              "// you may not use this file except in compliance with the License.\n",
              "// You may obtain a copy of the License at\n",
              "//\n",
              "//      http://www.apache.org/licenses/LICENSE-2.0\n",
              "//\n",
              "// Unless required by applicable law or agreed to in writing, software\n",
              "// distributed under the License is distributed on an \"AS IS\" BASIS,\n",
              "// WITHOUT WARRANTIES OR CONDITIONS OF ANY KIND, either express or implied.\n",
              "// See the License for the specific language governing permissions and\n",
              "// limitations under the License.\n",
              "\n",
              "/**\n",
              " * @fileoverview Helpers for google.colab Python module.\n",
              " */\n",
              "(function(scope) {\n",
              "function span(text, styleAttributes = {}) {\n",
              "  const element = document.createElement('span');\n",
              "  element.textContent = text;\n",
              "  for (const key of Object.keys(styleAttributes)) {\n",
              "    element.style[key] = styleAttributes[key];\n",
              "  }\n",
              "  return element;\n",
              "}\n",
              "\n",
              "// Max number of bytes which will be uploaded at a time.\n",
              "const MAX_PAYLOAD_SIZE = 100 * 1024;\n",
              "\n",
              "function _uploadFiles(inputId, outputId) {\n",
              "  const steps = uploadFilesStep(inputId, outputId);\n",
              "  const outputElement = document.getElementById(outputId);\n",
              "  // Cache steps on the outputElement to make it available for the next call\n",
              "  // to uploadFilesContinue from Python.\n",
              "  outputElement.steps = steps;\n",
              "\n",
              "  return _uploadFilesContinue(outputId);\n",
              "}\n",
              "\n",
              "// This is roughly an async generator (not supported in the browser yet),\n",
              "// where there are multiple asynchronous steps and the Python side is going\n",
              "// to poll for completion of each step.\n",
              "// This uses a Promise to block the python side on completion of each step,\n",
              "// then passes the result of the previous step as the input to the next step.\n",
              "function _uploadFilesContinue(outputId) {\n",
              "  const outputElement = document.getElementById(outputId);\n",
              "  const steps = outputElement.steps;\n",
              "\n",
              "  const next = steps.next(outputElement.lastPromiseValue);\n",
              "  return Promise.resolve(next.value.promise).then((value) => {\n",
              "    // Cache the last promise value to make it available to the next\n",
              "    // step of the generator.\n",
              "    outputElement.lastPromiseValue = value;\n",
              "    return next.value.response;\n",
              "  });\n",
              "}\n",
              "\n",
              "/**\n",
              " * Generator function which is called between each async step of the upload\n",
              " * process.\n",
              " * @param {string} inputId Element ID of the input file picker element.\n",
              " * @param {string} outputId Element ID of the output display.\n",
              " * @return {!Iterable<!Object>} Iterable of next steps.\n",
              " */\n",
              "function* uploadFilesStep(inputId, outputId) {\n",
              "  const inputElement = document.getElementById(inputId);\n",
              "  inputElement.disabled = false;\n",
              "\n",
              "  const outputElement = document.getElementById(outputId);\n",
              "  outputElement.innerHTML = '';\n",
              "\n",
              "  const pickedPromise = new Promise((resolve) => {\n",
              "    inputElement.addEventListener('change', (e) => {\n",
              "      resolve(e.target.files);\n",
              "    });\n",
              "  });\n",
              "\n",
              "  const cancel = document.createElement('button');\n",
              "  inputElement.parentElement.appendChild(cancel);\n",
              "  cancel.textContent = 'Cancel upload';\n",
              "  const cancelPromise = new Promise((resolve) => {\n",
              "    cancel.onclick = () => {\n",
              "      resolve(null);\n",
              "    };\n",
              "  });\n",
              "\n",
              "  // Wait for the user to pick the files.\n",
              "  const files = yield {\n",
              "    promise: Promise.race([pickedPromise, cancelPromise]),\n",
              "    response: {\n",
              "      action: 'starting',\n",
              "    }\n",
              "  };\n",
              "\n",
              "  cancel.remove();\n",
              "\n",
              "  // Disable the input element since further picks are not allowed.\n",
              "  inputElement.disabled = true;\n",
              "\n",
              "  if (!files) {\n",
              "    return {\n",
              "      response: {\n",
              "        action: 'complete',\n",
              "      }\n",
              "    };\n",
              "  }\n",
              "\n",
              "  for (const file of files) {\n",
              "    const li = document.createElement('li');\n",
              "    li.append(span(file.name, {fontWeight: 'bold'}));\n",
              "    li.append(span(\n",
              "        `(${file.type || 'n/a'}) - ${file.size} bytes, ` +\n",
              "        `last modified: ${\n",
              "            file.lastModifiedDate ? file.lastModifiedDate.toLocaleDateString() :\n",
              "                                    'n/a'} - `));\n",
              "    const percent = span('0% done');\n",
              "    li.appendChild(percent);\n",
              "\n",
              "    outputElement.appendChild(li);\n",
              "\n",
              "    const fileDataPromise = new Promise((resolve) => {\n",
              "      const reader = new FileReader();\n",
              "      reader.onload = (e) => {\n",
              "        resolve(e.target.result);\n",
              "      };\n",
              "      reader.readAsArrayBuffer(file);\n",
              "    });\n",
              "    // Wait for the data to be ready.\n",
              "    let fileData = yield {\n",
              "      promise: fileDataPromise,\n",
              "      response: {\n",
              "        action: 'continue',\n",
              "      }\n",
              "    };\n",
              "\n",
              "    // Use a chunked sending to avoid message size limits. See b/62115660.\n",
              "    let position = 0;\n",
              "    do {\n",
              "      const length = Math.min(fileData.byteLength - position, MAX_PAYLOAD_SIZE);\n",
              "      const chunk = new Uint8Array(fileData, position, length);\n",
              "      position += length;\n",
              "\n",
              "      const base64 = btoa(String.fromCharCode.apply(null, chunk));\n",
              "      yield {\n",
              "        response: {\n",
              "          action: 'append',\n",
              "          file: file.name,\n",
              "          data: base64,\n",
              "        },\n",
              "      };\n",
              "\n",
              "      let percentDone = fileData.byteLength === 0 ?\n",
              "          100 :\n",
              "          Math.round((position / fileData.byteLength) * 100);\n",
              "      percent.textContent = `${percentDone}% done`;\n",
              "\n",
              "    } while (position < fileData.byteLength);\n",
              "  }\n",
              "\n",
              "  // All done.\n",
              "  yield {\n",
              "    response: {\n",
              "      action: 'complete',\n",
              "    }\n",
              "  };\n",
              "}\n",
              "\n",
              "scope.google = scope.google || {};\n",
              "scope.google.colab = scope.google.colab || {};\n",
              "scope.google.colab._files = {\n",
              "  _uploadFiles,\n",
              "  _uploadFilesContinue,\n",
              "};\n",
              "})(self);\n",
              "</script> "
            ]
          },
          "metadata": {}
        },
        {
          "output_type": "stream",
          "name": "stdout",
          "text": [
            "Saving RAF-DB-DATASET.zip to RAF-DB-DATASET.zip\n",
            "Yüklendi: RAF-DB-DATASET.zip\n",
            "RAF-DB-DATASET.zip başarıyla çıkarıldı.\n"
          ]
        }
      ]
    },
    {
      "cell_type": "code",
      "source": [
        "# Çalışma dizinindeki dosyaları listeleme\n",
        "print(os.listdir())\n",
        "\n",
        "# Çıkarılan veri seti klasörünün içeriğini listeleme\n",
        "print(os.listdir(\"RAF-DB-DATASET/DATASET/test\"))"
      ],
      "metadata": {
        "colab": {
          "base_uri": "https://localhost:8080/"
        },
        "id": "JxN5KjCKZ1Nw",
        "outputId": "cf0b6686-4414-4dc9-b7a4-5edfa7d90cf0"
      },
      "execution_count": null,
      "outputs": [
        {
          "output_type": "stream",
          "name": "stdout",
          "text": [
            "['.config', 'drive', 'RAF-DB-DATASET.zip', 'RAF-DB-DATASET', 'sample_data']\n",
            "['1', '2', '4', '5', '7', '3', '6']\n"
          ]
        }
      ]
    },
    {
      "cell_type": "code",
      "source": [
        "# Eğitim ve test veri yolları\n",
        "train_dir = \"/content/RAF-DB-DATASET/DATASET/test\"\n",
        "test_dir = \"/content/RAF-DB-DATASET/DATASET/test\""
      ],
      "metadata": {
        "id": "MCbFVdxU8z06"
      },
      "execution_count": null,
      "outputs": []
    },
    {
      "cell_type": "code",
      "source": [
        "# Veri yükleme fonksiyonu\n",
        "def load_data(directory):\n",
        "    X, y = [], []\n",
        "    for label in os.listdir(directory):\n",
        "        label_path = os.path.join(directory, label)\n",
        "        if os.path.isdir(label_path):\n",
        "            for image_name in os.listdir(label_path):\n",
        "                image_path = os.path.join(label_path, image_name)\n",
        "                img = load_img(image_path, target_size=(224, 224))\n",
        "                img_array = img_to_array(img)\n",
        "                img_array = preprocess_input(img_array)  # MobileNetV2 için ön işleme\n",
        "                X.append(img_array)\n",
        "                y.append(int(label))\n",
        "    return np.array(X), np.array(y)\n",
        "\n",
        "# Eğitim ve test verilerini yükleme\n",
        "X_train, y_train = load_data(train_dir)\n",
        "X_test, y_test = load_data(test_dir)"
      ],
      "metadata": {
        "id": "AOd_ob3883xy"
      },
      "execution_count": null,
      "outputs": []
    },
    {
      "cell_type": "code",
      "source": [
        "# Etiketleri 0'dan başlatma\n",
        "y_train -= 1\n",
        "y_test -= 1\n",
        "\n",
        "# Sınıf sayısını belirleme\n",
        "num_classes = len(np.unique(y_train))\n",
        "\n",
        "# Etiketleri kategorik hale getirme\n",
        "y_train = to_categorical(y_train, num_classes)\n",
        "y_test = to_categorical(y_test, num_classes)\n",
        "\n",
        "print(f\"Eğitim verileri: {X_train.shape}, Etiketler: {y_train.shape}\")\n",
        "print(f\"Test verileri: {X_test.shape}, Etiketler: {y_test.shape}\")"
      ],
      "metadata": {
        "id": "dp_q1m-z87zN",
        "colab": {
          "base_uri": "https://localhost:8080/"
        },
        "outputId": "bd42fb31-9b5b-4877-f76d-fc0a53079cd1"
      },
      "execution_count": null,
      "outputs": [
        {
          "output_type": "stream",
          "name": "stdout",
          "text": [
            "Eğitim verileri: (3068, 224, 224, 3), Etiketler: (3068, 7)\n",
            "Test verileri: (3068, 224, 224, 3), Etiketler: (3068, 7)\n"
          ]
        }
      ]
    },
    {
      "cell_type": "code",
      "source": [
        "# Veri artırma\n",
        "data_augmentation = ImageDataGenerator(\n",
        "    rotation_range=20,\n",
        "    width_shift_range=0.2,\n",
        "    height_shift_range=0.2,\n",
        "    zoom_range=0.2,\n",
        "    horizontal_flip=True,\n",
        "    fill_mode=\"nearest\"\n",
        ")"
      ],
      "metadata": {
        "id": "PjWx07gM8boE"
      },
      "execution_count": null,
      "outputs": []
    },
    {
      "cell_type": "code",
      "source": [
        "# MobileNetV2 tabanlı model oluşturma\n",
        "base_model = MobileNetV2(weights=\"imagenet\", include_top=False, input_shape=(224, 224, 3))\n",
        "base_model.trainable = True\n",
        "for layer in base_model.layers[:100]:\n",
        "    layer.trainable = False\n",
        "\n",
        "# Modelin son katmanlarını ekleme\n",
        "model = Sequential([\n",
        "    base_model,\n",
        "    GlobalAveragePooling2D(),\n",
        "    Dense(512, activation='relu'),  # Daha büyük bir katman\n",
        "    Dropout(0.5),\n",
        "    Dense(256, activation='relu'),\n",
        "    Dropout(0.5),\n",
        "    Dense(num_classes, activation='softmax')\n",
        "])\n",
        "\n",
        "# Modeli derleme\n",
        "from tensorflow.keras.optimizers import SGD\n",
        "\n",
        "from tensorflow.keras.optimizers import SGD\n",
        "\n",
        "model.compile(optimizer=SGD(learning_rate=0.001, momentum=0.9),\n",
        "              loss='categorical_crossentropy',\n",
        "              metrics=['accuracy'])"
      ],
      "metadata": {
        "id": "2Vl1x3Wm9b5E",
        "colab": {
          "base_uri": "https://localhost:8080/"
        },
        "outputId": "0d4450bd-e66a-4837-a8e6-005598daec26"
      },
      "execution_count": null,
      "outputs": [
        {
          "output_type": "stream",
          "name": "stdout",
          "text": [
            "Downloading data from https://storage.googleapis.com/tensorflow/keras-applications/mobilenet_v2/mobilenet_v2_weights_tf_dim_ordering_tf_kernels_1.0_224_no_top.h5\n",
            "9406464/9406464 [==============================] - 0s 0us/step\n"
          ]
        }
      ]
    },
    {
      "cell_type": "code",
      "source": [
        "# Sınıf ağırlıklarını hesaplama\n",
        "y_train_labels = np.argmax(y_train, axis=1)\n",
        "class_weights = compute_class_weight(\n",
        "    class_weight='balanced',\n",
        "    classes=np.unique(y_train_labels),\n",
        "    y=y_train_labels\n",
        ")\n",
        "class_weights = dict(enumerate(class_weights))\n",
        "\n",
        "print(\"Sınıf Ağırlıkları:\", class_weights)"
      ],
      "metadata": {
        "id": "m6TmW8unMVbi",
        "colab": {
          "base_uri": "https://localhost:8080/"
        },
        "outputId": "451232f0-7a0b-4024-8303-9465458f5d45"
      },
      "execution_count": null,
      "outputs": [
        {
          "output_type": "stream",
          "name": "stdout",
          "text": [
            "Sınıf Ağırlıkları: {0: 1.3321754233608336, 1: 5.922779922779923, 2: 2.7392857142857143, 3: 0.3698613622664256, 4: 0.9169157202630006, 5: 2.7054673721340388, 6: 0.6445378151260505}\n"
          ]
        }
      ]
    },
    {
      "cell_type": "code",
      "source": [
        "# Callback'leri tanımlayın\n",
        "from tensorflow.keras.callbacks import EarlyStopping, ReduceLROnPlateau # Import ReduceLROnPlateau\n",
        "\n",
        "early_stopping = EarlyStopping(monitor='val_loss',\n",
        "                               patience=5,\n",
        "                               restore_best_weights=True)\n",
        "\n",
        "lr_reduction = ReduceLROnPlateau(monitor='val_loss',\n",
        "                                 patience=3,\n",
        "                                 verbose=1,\n",
        "                                 factor=0.5,\n",
        "                                 min_lr=1e-6)"
      ],
      "metadata": {
        "id": "ADf-C3r4OClh"
      },
      "execution_count": null,
      "outputs": []
    },
    {
      "cell_type": "code",
      "source": [
        "# Modeli eğitme\n",
        "history = model.fit(\n",
        "    data_augmentation.flow(X_train, y_train, batch_size=32),\n",
        "    epochs=30,  # Daha uzun eğitim\n",
        "    validation_data=(X_test, y_test),\n",
        "    class_weight=class_weights,\n",
        "    callbacks=[lr_reduction, early_stopping]\n",
        ")\n",
        "# Eğitilen modeli kaydetme\n",
        "model.save(\"emotion_recognition_mobilenetv2.h5\")"
      ],
      "metadata": {
        "id": "UCCyGoOhRU2O",
        "colab": {
          "base_uri": "https://localhost:8080/"
        },
        "outputId": "97c615ae-528f-4ee7-c71d-3094f6ada8a1"
      },
      "execution_count": null,
      "outputs": [
        {
          "output_type": "stream",
          "name": "stdout",
          "text": [
            "Epoch 1/30\n",
            "96/96 [==============================] - 64s 629ms/step - loss: 2.0930 - accuracy: 0.1675 - val_loss: 1.8394 - val_accuracy: 0.2653 - lr: 0.0010\n",
            "Epoch 2/30\n",
            "96/96 [==============================] - 57s 596ms/step - loss: 1.9031 - accuracy: 0.1985 - val_loss: 1.7799 - val_accuracy: 0.2106 - lr: 0.0010\n",
            "Epoch 3/30\n",
            "96/96 [==============================] - 55s 572ms/step - loss: 1.7712 - accuracy: 0.2415 - val_loss: 1.6880 - val_accuracy: 0.3439 - lr: 0.0010\n",
            "Epoch 4/30\n",
            "96/96 [==============================] - 57s 590ms/step - loss: 1.6688 - accuracy: 0.3106 - val_loss: 1.5834 - val_accuracy: 0.4384 - lr: 0.0010\n",
            "Epoch 5/30\n",
            "96/96 [==============================] - 57s 597ms/step - loss: 1.5874 - accuracy: 0.3579 - val_loss: 1.6769 - val_accuracy: 0.3533 - lr: 0.0010\n",
            "Epoch 6/30\n",
            "96/96 [==============================] - 57s 591ms/step - loss: 1.4537 - accuracy: 0.4042 - val_loss: 1.6980 - val_accuracy: 0.3198 - lr: 0.0010\n",
            "Epoch 7/30\n",
            "96/96 [==============================] - 57s 589ms/step - loss: 1.3625 - accuracy: 0.4668 - val_loss: 1.3763 - val_accuracy: 0.4694 - lr: 0.0010\n",
            "Epoch 8/30\n",
            "96/96 [==============================] - 55s 575ms/step - loss: 1.2529 - accuracy: 0.5134 - val_loss: 1.4068 - val_accuracy: 0.4684 - lr: 0.0010\n",
            "Epoch 9/30\n",
            "96/96 [==============================] - 59s 610ms/step - loss: 1.2222 - accuracy: 0.5349 - val_loss: 1.8561 - val_accuracy: 0.3735 - lr: 0.0010\n",
            "Epoch 10/30\n",
            "96/96 [==============================] - 58s 603ms/step - loss: 1.0910 - accuracy: 0.5671 - val_loss: 1.3491 - val_accuracy: 0.5349 - lr: 0.0010\n",
            "Epoch 11/30\n",
            "96/96 [==============================] - 57s 595ms/step - loss: 1.0556 - accuracy: 0.6108 - val_loss: 2.0263 - val_accuracy: 0.3986 - lr: 0.0010\n",
            "Epoch 12/30\n",
            "96/96 [==============================] - 57s 593ms/step - loss: 0.9375 - accuracy: 0.6242 - val_loss: 0.9992 - val_accuracy: 0.6454 - lr: 0.0010\n",
            "Epoch 13/30\n",
            "96/96 [==============================] - 58s 605ms/step - loss: 0.8925 - accuracy: 0.6441 - val_loss: 1.1112 - val_accuracy: 0.6033 - lr: 0.0010\n",
            "Epoch 14/30\n",
            "96/96 [==============================] - 57s 598ms/step - loss: 0.9054 - accuracy: 0.6359 - val_loss: 1.7431 - val_accuracy: 0.4560 - lr: 0.0010\n",
            "Epoch 15/30\n",
            "96/96 [==============================] - 57s 598ms/step - loss: 0.8048 - accuracy: 0.6728 - val_loss: 0.9336 - val_accuracy: 0.6822 - lr: 0.0010\n",
            "Epoch 16/30\n",
            "96/96 [==============================] - 57s 597ms/step - loss: 0.7641 - accuracy: 0.7040 - val_loss: 0.8179 - val_accuracy: 0.7252 - lr: 0.0010\n",
            "Epoch 17/30\n",
            "96/96 [==============================] - 58s 607ms/step - loss: 0.7132 - accuracy: 0.7031 - val_loss: 0.9241 - val_accuracy: 0.6930 - lr: 0.0010\n",
            "Epoch 18/30\n",
            "96/96 [==============================] - 56s 586ms/step - loss: 0.6534 - accuracy: 0.7298 - val_loss: 0.8867 - val_accuracy: 0.6956 - lr: 0.0010\n",
            "Epoch 19/30\n",
            "96/96 [==============================] - 57s 594ms/step - loss: 0.6092 - accuracy: 0.7454 - val_loss: 0.7305 - val_accuracy: 0.7458 - lr: 0.0010\n",
            "Epoch 20/30\n",
            "96/96 [==============================] - 58s 606ms/step - loss: 0.6050 - accuracy: 0.7402 - val_loss: 0.7212 - val_accuracy: 0.7500 - lr: 0.0010\n",
            "Epoch 21/30\n",
            "96/96 [==============================] - 58s 599ms/step - loss: 0.5489 - accuracy: 0.7715 - val_loss: 0.7602 - val_accuracy: 0.7474 - lr: 0.0010\n",
            "Epoch 22/30\n",
            "96/96 [==============================] - 58s 607ms/step - loss: 0.4743 - accuracy: 0.7852 - val_loss: 0.6411 - val_accuracy: 0.7819 - lr: 0.0010\n",
            "Epoch 23/30\n",
            "96/96 [==============================] - 58s 604ms/step - loss: 0.5005 - accuracy: 0.7901 - val_loss: 0.5897 - val_accuracy: 0.8015 - lr: 0.0010\n",
            "Epoch 24/30\n",
            "96/96 [==============================] - 57s 598ms/step - loss: 0.4845 - accuracy: 0.7898 - val_loss: 0.6650 - val_accuracy: 0.7650 - lr: 0.0010\n",
            "Epoch 25/30\n",
            "96/96 [==============================] - 57s 592ms/step - loss: 0.4493 - accuracy: 0.8035 - val_loss: 0.6582 - val_accuracy: 0.7480 - lr: 0.0010\n",
            "Epoch 26/30\n",
            "96/96 [==============================] - ETA: 0s - loss: 0.4107 - accuracy: 0.8145\n",
            "Epoch 26: ReduceLROnPlateau reducing learning rate to 0.0005000000237487257.\n",
            "96/96 [==============================] - 55s 574ms/step - loss: 0.4107 - accuracy: 0.8145 - val_loss: 0.8437 - val_accuracy: 0.7014 - lr: 0.0010\n",
            "Epoch 27/30\n",
            "96/96 [==============================] - 56s 580ms/step - loss: 0.3679 - accuracy: 0.8331 - val_loss: 0.7091 - val_accuracy: 0.7432 - lr: 5.0000e-04\n",
            "Epoch 28/30\n",
            "96/96 [==============================] - 55s 575ms/step - loss: 0.3317 - accuracy: 0.8442 - val_loss: 0.5748 - val_accuracy: 0.7894 - lr: 5.0000e-04\n",
            "Epoch 29/30\n",
            "96/96 [==============================] - 57s 592ms/step - loss: 0.3173 - accuracy: 0.8497 - val_loss: 0.5849 - val_accuracy: 0.7823 - lr: 5.0000e-04\n",
            "Epoch 30/30\n",
            "96/96 [==============================] - 57s 596ms/step - loss: 0.3272 - accuracy: 0.8537 - val_loss: 0.4856 - val_accuracy: 0.8158 - lr: 5.0000e-04\n"
          ]
        },
        {
          "output_type": "stream",
          "name": "stderr",
          "text": [
            "/usr/local/lib/python3.10/dist-packages/keras/src/engine/training.py:3103: UserWarning: You are saving your model as an HDF5 file via `model.save()`. This file format is considered legacy. We recommend using instead the native Keras format, e.g. `model.save('my_model.keras')`.\n",
            "  saving_api.save_model(\n"
          ]
        }
      ]
    },
    {
      "cell_type": "code",
      "source": [
        "# Modeli test etme\n",
        "test_loss, test_accuracy = model.evaluate(X_test, y_test)\n",
        "print(f\"Test Doğruluğu: {test_accuracy * 100:.2f}%\")"
      ],
      "metadata": {
        "id": "AJS3rnobmNRX",
        "colab": {
          "base_uri": "https://localhost:8080/"
        },
        "outputId": "89f1fde1-7fd2-4f71-8ccb-0b278cba155f"
      },
      "execution_count": null,
      "outputs": [
        {
          "output_type": "stream",
          "name": "stdout",
          "text": [
            "96/96 [==============================] - 19s 197ms/step - loss: 0.4856 - accuracy: 0.8158\n",
            "Test Doğruluğu: 81.58%\n"
          ]
        }
      ]
    },
    {
      "cell_type": "code",
      "source": [
        "# Modelin tahminlerini değerlendirme\n",
        "y_pred = model.predict(X_test)\n",
        "y_pred_classes = np.argmax(y_pred, axis=1)\n",
        "y_true_classes = np.argmax(y_test, axis=1)"
      ],
      "metadata": {
        "id": "8CRMTL21RWuY",
        "colab": {
          "base_uri": "https://localhost:8080/"
        },
        "outputId": "d98fd47f-df47-4bd1-d117-45fd6eb4e33f"
      },
      "execution_count": null,
      "outputs": [
        {
          "output_type": "stream",
          "name": "stdout",
          "text": [
            "96/96 [==============================] - 18s 181ms/step\n"
          ]
        }
      ]
    },
    {
      "cell_type": "code",
      "source": [
        "# Hata Matrisi ve Sınıflandırma Raporu\n",
        "cm = confusion_matrix(y_true_classes, y_pred_classes)\n",
        "print(\"Confusion Matrix:\\n\", cm)\n",
        "print(\"Classification Report:\\n\", classification_report(y_true_classes, y_pred_classes))"
      ],
      "metadata": {
        "id": "TuUDf7w4RYQm",
        "colab": {
          "base_uri": "https://localhost:8080/"
        },
        "outputId": "3c612472-bc9d-4260-d791-1f2c4c8c3df6"
      },
      "execution_count": null,
      "outputs": [
        {
          "output_type": "stream",
          "name": "stdout",
          "text": [
            "Confusion Matrix:\n",
            " [[ 312   10    2    3    1    1    0]\n",
            " [   0   74    0    0    0    0    0]\n",
            " [   0    0  157    1    2    0    0]\n",
            " [  12   17   25 1079   41    1   10]\n",
            " [   3   24    8    6  432    2    3]\n",
            " [   1    5    0    1    0  155    0]\n",
            " [  80   29   65   75  134    3  294]]\n",
            "Classification Report:\n",
            "               precision    recall  f1-score   support\n",
            "\n",
            "           0       0.76      0.95      0.85       329\n",
            "           1       0.47      1.00      0.64        74\n",
            "           2       0.61      0.98      0.75       160\n",
            "           3       0.93      0.91      0.92      1185\n",
            "           4       0.71      0.90      0.79       478\n",
            "           5       0.96      0.96      0.96       162\n",
            "           6       0.96      0.43      0.60       680\n",
            "\n",
            "    accuracy                           0.82      3068\n",
            "   macro avg       0.77      0.88      0.79      3068\n",
            "weighted avg       0.86      0.82      0.81      3068\n",
            "\n"
          ]
        }
      ]
    },
    {
      "cell_type": "code",
      "source": [
        "# Confusion matrix görselleştirme\n",
        "import seaborn as sns\n",
        "plt.figure(figsize=(10, 8))\n",
        "sns.heatmap(cm, annot=True, fmt=\"d\", cmap=\"Blues\", xticklabels=range(num_classes), yticklabels=range(num_classes))\n",
        "plt.xlabel(\"Tahmin Edilen\")\n",
        "plt.ylabel(\"Gerçek\")\n",
        "plt.show()"
      ],
      "metadata": {
        "id": "kqx-_wJQRZfR",
        "colab": {
          "base_uri": "https://localhost:8080/",
          "height": 696
        },
        "outputId": "8c38402f-3955-4da7-e5d4-a55deca1e740"
      },
      "execution_count": null,
      "outputs": [
        {
          "output_type": "display_data",
          "data": {
            "text/plain": [
              "<Figure size 1000x800 with 2 Axes>"
            ],
            "image/png": "[encoded data removed]"
          },
          "metadata": {}
        }
      ]
    },
    {
      "cell_type": "code",
      "source": [
        "# Modeli yükleme\n",
        "model = load_model(\"emotion_recognition_mobilenetv2.h5\") # Change the filename to the correct one\n",
        "\n",
        "# Test CSV dosyasını yükleme\n",
        "test_csv_path = \"/content/drive/MyDrive/Yapay Zeka Bilişsel Sİstemler Dersi Proje/RAF-DB-DATASET/test_labels.csv\"\n",
        "test_data = pd.read_csv(test_csv_path)\n",
        "\n",
        "# Rastgele bir görüntü seçme\n",
        "random_row = test_data.sample(n=1).iloc[0]\n",
        "test_image_name = random_row['image']\n",
        "correct_label = random_row['label']\n",
        "\n",
        "# Görüntü yolunu oluşturma\n",
        "test_image_path = os.path.join(\"/content/drive/MyDrive/Yapay Zeka Bilişsel Sİstemler Dersi Proje/RAF-DB-DATASET/DATASET/test\", str(correct_label), test_image_name)\n",
        "print(f\"Test edilecek görüntü: {test_image_path}\")\n",
        "\n",
        "# Görüntüyü yükleme ve işleme\n",
        "img = load_img(test_image_path, target_size=(224, 224))  # Görüntüyü yükle ve boyutlandır\n",
        "img_array = img_to_array(img) / 255.0  # Normalizasyon\n",
        "img_array = np.expand_dims(img_array, axis=0)  # Modelin tahmini için batch boyutuna dönüştür\n",
        "\n",
        "# Görüntü üzerinde tahmin yapma\n",
        "predictions = model.predict(img_array)\n",
        "predicted_class = np.argmax(predictions)\n",
        "\n",
        "# Sınıf etiketleri\n",
        "emotion_labels = {0: \"Surprise\", 1: \"Fear\", 2: \"Disgust\", 3: \"Happy\", 4: \"Sad\", 5: \"Anger\", 6: \"Neutral\"}\n",
        "predicted_label = emotion_labels[predicted_class]\n",
        "\n",
        "# Tahminin görselleştirilmesi\n",
        "plt.imshow(load_img(test_image_path))  # Görüntüyü yükleyerek görselleştir\n",
        "plt.title(f\"Tahmin: {predicted_label}\")\n",
        "plt.axis(\"off\")\n",
        "plt.show()\n",
        "\n",
        "print(f\"Modelin tahmini: {predicted_label}\")"
      ],
      "metadata": {
        "id": "eL2_M8cgCf3R"
      },
      "execution_count": null,
      "outputs": []
    }
  ]
}