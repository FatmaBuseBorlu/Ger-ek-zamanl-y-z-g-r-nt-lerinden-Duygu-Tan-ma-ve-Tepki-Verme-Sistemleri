{
  "nbformat": 4,
  "nbformat_minor": 0,
  "metadata": {
    "colab": {
      "provenance": [],
      "gpuType": "T4",
      "machine_shape": "hm",
      "include_colab_link": true
    },
    "kernelspec": {
      "name": "python3",
      "display_name": "Python 3"
    },
    "language_info": {
      "name": "python"
    },
    "accelerator": "GPU"
  },
  "cells": [
    {
      "cell_type": "markdown",
      "metadata": {
        "id": "view-in-github",
        "colab_type": "text"
      },
      "source": [
        "<a href=\"https://colab.research.google.com/github/FatmaBuseBorlu/YuzGoruntulerindenDuyguTanimaveTepkiVerme/blob/main/Yapay_Zeka.ipynb\" target=\"_parent\"><img src=\"https://colab.research.google.com/assets/colab-badge.svg\" alt=\"Open In Colab\"/></a>"
      ]
    },
    {
      "cell_type": "code",
      "source": [
        "import os\n",
        "import numpy as np\n",
        "import pandas as pd\n",
        "import matplotlib.pyplot as plt\n",
        "from imblearn.over_sampling import SMOTE\n",
        "from tensorflow.keras.preprocessing.image import ImageDataGenerator, load_img, img_to_array\n",
        "from tensorflow.keras.applications import EfficientNetB0\n",
        "from tensorflow.keras.applications.efficientnet import preprocess_input\n",
        "from tensorflow.keras.models import Sequential, Model, load_model\n",
        "from tensorflow.keras.layers import Dense, Dropout, GlobalAveragePooling2D\n",
        "from tensorflow.keras.optimizers import Adam\n",
        "from tensorflow.keras.callbacks import EarlyStopping, ReduceLROnPlateau, LearningRateScheduler\n",
        "from sklearn.utils.class_weight import compute_class_weight\n",
        "from sklearn.metrics import confusion_matrix, classification_report\n",
        "import seaborn as sns"
      ],
      "metadata": {
        "id": "P2GtLVilOFhi"
      },
      "execution_count": 1,
      "outputs": []
    },
    {
      "cell_type": "code",
      "source": [
        "from google.colab import files\n",
        "import zipfile\n",
        "import os\n",
        "\n",
        "# Yerel bilgisayardan dosya yükleme\n",
        "uploaded = files.upload()\n",
        "\n",
        "# Yüklenen dosyayı kontrol etme\n",
        "for file_name in uploaded.keys():\n",
        "    print(f\"Yüklendi: {file_name}\")\n",
        "\n",
        "    # Eğer dosya bir ZIP ise, çıkar\n",
        "    if file_name.endswith(\".zip\"):\n",
        "        with zipfile.ZipFile(file_name, 'r') as zip_ref:\n",
        "            zip_ref.extractall()  # Varsayılan dizine çıkarır\n",
        "            print(f\"{file_name} başarıyla çıkarıldı.\")"
      ],
      "metadata": {
        "colab": {
          "base_uri": "https://localhost:8080/",
          "height": 125
        },
        "id": "SYBqtlJkVbSD",
        "outputId": "66fc74af-a9b5-4b26-ffc5-52bca1f4b60e"
      },
      "execution_count": 2,
      "outputs": [
        {
          "output_type": "display_data",
          "data": {
            "text/plain": [
              "<IPython.core.display.HTML object>"
            ],
            "text/html": [
              "\n",
              "     <input type=\"file\" id=\"files-a8d24354-828a-41b4-b775-68e969752e9a\" name=\"files[]\" multiple disabled\n",
              "        style=\"border:none\" />\n",
              "     <output id=\"result-a8d24354-828a-41b4-b775-68e969752e9a\">\n",
              "      Upload widget is only available when the cell has been executed in the\n",
              "      current browser session. Please rerun this cell to enable.\n",
              "      </output>\n",
              "      <script>// Copyright 2017 Google LLC\n",
              "//\n",
              "// Licensed under the Apache License, Version 2.0 (the \"License\");\n",
              "// you may not use this file except in compliance with the License.\n",
              "// You may obtain a copy of the License at\n",
              "//\n",
              "//      http://www.apache.org/licenses/LICENSE-2.0\n",
              "//\n",
              "// Unless required by applicable law or agreed to in writing, software\n",
              "// distributed under the License is distributed on an \"AS IS\" BASIS,\n",
              "// WITHOUT WARRANTIES OR CONDITIONS OF ANY KIND, either express or implied.\n",
              "// See the License for the specific language governing permissions and\n",
              "// limitations under the License.\n",
              "\n",
              "/**\n",
              " * @fileoverview Helpers for google.colab Python module.\n",
              " */\n",
              "(function(scope) {\n",
              "function span(text, styleAttributes = {}) {\n",
              "  const element = document.createElement('span');\n",
              "  element.textContent = text;\n",
              "  for (const key of Object.keys(styleAttributes)) {\n",
              "    element.style[key] = styleAttributes[key];\n",
              "  }\n",
              "  return element;\n",
              "}\n",
              "\n",
              "// Max number of bytes which will be uploaded at a time.\n",
              "const MAX_PAYLOAD_SIZE = 100 * 1024;\n",
              "\n",
              "function _uploadFiles(inputId, outputId) {\n",
              "  const steps = uploadFilesStep(inputId, outputId);\n",
              "  const outputElement = document.getElementById(outputId);\n",
              "  // Cache steps on the outputElement to make it available for the next call\n",
              "  // to uploadFilesContinue from Python.\n",
              "  outputElement.steps = steps;\n",
              "\n",
              "  return _uploadFilesContinue(outputId);\n",
              "}\n",
              "\n",
              "// This is roughly an async generator (not supported in the browser yet),\n",
              "// where there are multiple asynchronous steps and the Python side is going\n",
              "// to poll for completion of each step.\n",
              "// This uses a Promise to block the python side on completion of each step,\n",
              "// then passes the result of the previous step as the input to the next step.\n",
              "function _uploadFilesContinue(outputId) {\n",
              "  const outputElement = document.getElementById(outputId);\n",
              "  const steps = outputElement.steps;\n",
              "\n",
              "  const next = steps.next(outputElement.lastPromiseValue);\n",
              "  return Promise.resolve(next.value.promise).then((value) => {\n",
              "    // Cache the last promise value to make it available to the next\n",
              "    // step of the generator.\n",
              "    outputElement.lastPromiseValue = value;\n",
              "    return next.value.response;\n",
              "  });\n",
              "}\n",
              "\n",
              "/**\n",
              " * Generator function which is called between each async step of the upload\n",
              " * process.\n",
              " * @param {string} inputId Element ID of the input file picker element.\n",
              " * @param {string} outputId Element ID of the output display.\n",
              " * @return {!Iterable<!Object>} Iterable of next steps.\n",
              " */\n",
              "function* uploadFilesStep(inputId, outputId) {\n",
              "  const inputElement = document.getElementById(inputId);\n",
              "  inputElement.disabled = false;\n",
              "\n",
              "  const outputElement = document.getElementById(outputId);\n",
              "  outputElement.innerHTML = '';\n",
              "\n",
              "  const pickedPromise = new Promise((resolve) => {\n",
              "    inputElement.addEventListener('change', (e) => {\n",
              "      resolve(e.target.files);\n",
              "    });\n",
              "  });\n",
              "\n",
              "  const cancel = document.createElement('button');\n",
              "  inputElement.parentElement.appendChild(cancel);\n",
              "  cancel.textContent = 'Cancel upload';\n",
              "  const cancelPromise = new Promise((resolve) => {\n",
              "    cancel.onclick = () => {\n",
              "      resolve(null);\n",
              "    };\n",
              "  });\n",
              "\n",
              "  // Wait for the user to pick the files.\n",
              "  const files = yield {\n",
              "    promise: Promise.race([pickedPromise, cancelPromise]),\n",
              "    response: {\n",
              "      action: 'starting',\n",
              "    }\n",
              "  };\n",
              "\n",
              "  cancel.remove();\n",
              "\n",
              "  // Disable the input element since further picks are not allowed.\n",
              "  inputElement.disabled = true;\n",
              "\n",
              "  if (!files) {\n",
              "    return {\n",
              "      response: {\n",
              "        action: 'complete',\n",
              "      }\n",
              "    };\n",
              "  }\n",
              "\n",
              "  for (const file of files) {\n",
              "    const li = document.createElement('li');\n",
              "    li.append(span(file.name, {fontWeight: 'bold'}));\n",
              "    li.append(span(\n",
              "        `(${file.type || 'n/a'}) - ${file.size} bytes, ` +\n",
              "        `last modified: ${\n",
              "            file.lastModifiedDate ? file.lastModifiedDate.toLocaleDateString() :\n",
              "                                    'n/a'} - `));\n",
              "    const percent = span('0% done');\n",
              "    li.appendChild(percent);\n",
              "\n",
              "    outputElement.appendChild(li);\n",
              "\n",
              "    const fileDataPromise = new Promise((resolve) => {\n",
              "      const reader = new FileReader();\n",
              "      reader.onload = (e) => {\n",
              "        resolve(e.target.result);\n",
              "      };\n",
              "      reader.readAsArrayBuffer(file);\n",
              "    });\n",
              "    // Wait for the data to be ready.\n",
              "    let fileData = yield {\n",
              "      promise: fileDataPromise,\n",
              "      response: {\n",
              "        action: 'continue',\n",
              "      }\n",
              "    };\n",
              "\n",
              "    // Use a chunked sending to avoid message size limits. See b/62115660.\n",
              "    let position = 0;\n",
              "    do {\n",
              "      const length = Math.min(fileData.byteLength - position, MAX_PAYLOAD_SIZE);\n",
              "      const chunk = new Uint8Array(fileData, position, length);\n",
              "      position += length;\n",
              "\n",
              "      const base64 = btoa(String.fromCharCode.apply(null, chunk));\n",
              "      yield {\n",
              "        response: {\n",
              "          action: 'append',\n",
              "          file: file.name,\n",
              "          data: base64,\n",
              "        },\n",
              "      };\n",
              "\n",
              "      let percentDone = fileData.byteLength === 0 ?\n",
              "          100 :\n",
              "          Math.round((position / fileData.byteLength) * 100);\n",
              "      percent.textContent = `${percentDone}% done`;\n",
              "\n",
              "    } while (position < fileData.byteLength);\n",
              "  }\n",
              "\n",
              "  // All done.\n",
              "  yield {\n",
              "    response: {\n",
              "      action: 'complete',\n",
              "    }\n",
              "  };\n",
              "}\n",
              "\n",
              "scope.google = scope.google || {};\n",
              "scope.google.colab = scope.google.colab || {};\n",
              "scope.google.colab._files = {\n",
              "  _uploadFiles,\n",
              "  _uploadFilesContinue,\n",
              "};\n",
              "})(self);\n",
              "</script> "
            ]
          },
          "metadata": {}
        },
        {
          "output_type": "stream",
          "name": "stdout",
          "text": [
            "Saving RAF-DB-DATASET.zip to RAF-DB-DATASET.zip\n",
            "Yüklendi: RAF-DB-DATASET.zip\n",
            "RAF-DB-DATASET.zip başarıyla çıkarıldı.\n"
          ]
        }
      ]
    },
    {
      "cell_type": "code",
      "source": [
        "# Veri yükleme fonksiyonu\n",
        "def load_data(directory):\n",
        "    X, y = [], []\n",
        "    for label in os.listdir(directory):\n",
        "        label_path = os.path.join(directory, label)\n",
        "        if os.path.isdir(label_path):\n",
        "            for image_name in os.listdir(label_path):\n",
        "                image_path = os.path.join(label_path, image_name)\n",
        "                img = load_img(image_path, target_size=(224, 224))\n",
        "                img_array = img_to_array(img)\n",
        "                img_array = preprocess_input(img_array)\n",
        "                X.append(img_array)\n",
        "                y.append(int(label))\n",
        "    return np.array(X), np.array(y)\n",
        "\n",
        "# Eğitim ve test veri yolları\n",
        "train_dir = \"/content/RAF-DB-DATASET/DATASET/train\"\n",
        "test_dir = \"/content/RAF-DB-DATASET/DATASET/test\"\n",
        "\n",
        "# Eğitim ve test verilerini yükleme\n",
        "X_train, y_train = load_data(train_dir)\n",
        "X_test, y_test = load_data(test_dir)\n",
        "\n",
        "print(\"Veriler başarıyla yüklendi.\")"
      ],
      "metadata": {
        "id": "JxN5KjCKZ1Nw",
        "colab": {
          "base_uri": "https://localhost:8080/"
        },
        "outputId": "482622fe-d359-4428-a293-540db93565f0"
      },
      "execution_count": 3,
      "outputs": [
        {
          "output_type": "stream",
          "name": "stdout",
          "text": [
            "Veriler başarıyla yüklendi.\n"
          ]
        }
      ]
    },
    {
      "cell_type": "code",
      "source": [
        "# SMOTE ile veri artırma\n",
        "from imblearn.over_sampling import SMOTE\n",
        "\n",
        "# SMOTE uygulamadan önce veriyi yeniden şekillendir\n",
        "X_train_flat = X_train.reshape(X_train.shape[0], -1)\n",
        "\n",
        "# SMOTE uygulama\n",
        "smote = SMOTE()\n",
        "X_train_smote, y_train_smote = smote.fit_resample(X_train_flat, y_train)\n",
        "\n",
        "# SMOTE sonrası veriyi yeniden şekillendir\n",
        "X_train = X_train_smote.reshape(X_train_smote.shape[0], 224, 224, 3)\n",
        "y_train = y_train_smote\n",
        "\n",
        "# Boyutları kontrol et\n",
        "print(f\"X_train boyutu: {X_train.shape}\")\n",
        "print(f\"y_train boyutu: {y_train.shape}\")\n"
      ],
      "metadata": {
        "colab": {
          "base_uri": "https://localhost:8080/"
        },
        "id": "4Td_j4nc4K_3",
        "outputId": "c5f46131-b927-4039-c64e-f99953cea009"
      },
      "execution_count": 4,
      "outputs": [
        {
          "output_type": "stream",
          "name": "stdout",
          "text": [
            "X_train boyutu: (33404, 224, 224, 3)\n",
            "y_train boyutu: (33404,)\n"
          ]
        }
      ]
    },
    {
      "cell_type": "code",
      "source": [
        "# Veri artırma işlemi\n",
        "data_augmentation = ImageDataGenerator(\n",
        "    rotation_range=30,\n",
        "    width_shift_range=0.3,\n",
        "    height_shift_range=0.3,\n",
        "    zoom_range=0.3,\n",
        "    horizontal_flip=True,\n",
        "    fill_mode=\"nearest\"\n",
        ")"
      ],
      "metadata": {
        "id": "1jLiF3ZV4Oah"
      },
      "execution_count": 5,
      "outputs": []
    },
    {
      "cell_type": "code",
      "source": [
        "print(f\"X_train boyutu: {X_train.shape}\")\n",
        "print(f\"y_train boyutu: {y_train.shape}\")\n"
      ],
      "metadata": {
        "colab": {
          "base_uri": "https://localhost:8080/"
        },
        "id": "fHVLjVgc4D7Y",
        "outputId": "898979b8-b844-4fc6-ad6b-fcb2573fb3d9"
      },
      "execution_count": 6,
      "outputs": [
        {
          "output_type": "stream",
          "name": "stdout",
          "text": [
            "X_train boyutu: (33404, 224, 224, 3)\n",
            "y_train boyutu: (33404,)\n"
          ]
        }
      ]
    },
    {
      "cell_type": "code",
      "source": [
        "# EfficientNetB0 tabanlı model oluşturma\n",
        "num_classes = 7 # Sınıf sayısı (Surprise, Fear, Disgust, Happy, Sad, Anger, Neutral)\n",
        "\n",
        "base_model = EfficientNetB0(weights=\"imagenet\", include_top=False, input_shape=(224, 224, 3))\n",
        "base_model.trainable = True\n",
        "for layer in base_model.layers[:100]:\n",
        "    layer.trainable = False\n",
        "\n",
        "model = Sequential([\n",
        "    base_model,\n",
        "    GlobalAveragePooling2D(),\n",
        "    Dense(1024, activation='relu'),\n",
        "    Dropout(0.6),  # %60 Dropout\n",
        "    Dense(512, activation='relu'),\n",
        "    Dropout(0.6),  # %60 Dropout\n",
        "    Dense(num_classes, activation='softmax')\n",
        "])\n",
        "\n",
        "\n",
        "# Adam optimizer ve Learning Rate Scheduler\n",
        "initial_learning_rate = 0.001\n",
        "def lr_scheduler(epoch, lr):\n",
        "    if epoch > 10:\n",
        "        return lr * 0.5\n",
        "    return lr"
      ],
      "metadata": {
        "id": "2Vl1x3Wm9b5E",
        "colab": {
          "base_uri": "https://localhost:8080/"
        },
        "outputId": "39b4cbad-157b-4b52-c861-743790c34edb"
      },
      "execution_count": 7,
      "outputs": [
        {
          "output_type": "stream",
          "name": "stdout",
          "text": [
            "Downloading data from https://storage.googleapis.com/keras-applications/efficientnetb0_notop.h5\n",
            "\u001b[1m16705208/16705208\u001b[0m \u001b[32m━━━━━━━━━━━━━━━━━━━━\u001b[0m\u001b[37m\u001b[0m \u001b[1m2s\u001b[0m 0us/step\n"
          ]
        }
      ]
    },
    {
      "cell_type": "code",
      "source": [
        "# Model derleme\n",
        "model.compile(\n",
        "    optimizer=Adam(learning_rate=0.0001),  # Daha düşük öğrenme oranı\n",
        "    loss='sparse_categorical_crossentropy',\n",
        "    metrics=['accuracy']\n",
        ")\n"
      ],
      "metadata": {
        "id": "m6TmW8unMVbi"
      },
      "execution_count": 8,
      "outputs": []
    },
    {
      "cell_type": "code",
      "source": [
        "# Etiketlerin maksimum değerini kontrol et\n",
        "print(f\"Etiketlerin maksimum değeri (y_train): {y_train.max()}\")\n",
        "print(f\"Etiketlerin maksimum değeri (y_test): {y_test.max()}\")\n",
        "\n",
        "# Etiketleri sıfırdan başlatma ve yeniden etiketleme\n",
        "y_train -= y_train.min()\n",
        "y_test -= y_test.min()\n",
        "\n",
        "# Etiketlerin kontrolünü tekrar yap\n",
        "print(f\"Düzenlenmiş etiketlerin maksimum değeri (y_train): {y_train.max()}\")\n",
        "print(f\"Düzenlenmiş etiketlerin maksimum değeri (y_test): {y_test.max()}\")\n"
      ],
      "metadata": {
        "colab": {
          "base_uri": "https://localhost:8080/"
        },
        "id": "0wYidMP56Ox0",
        "outputId": "b68a22fd-9903-4d32-ea5a-3499c369af45"
      },
      "execution_count": 9,
      "outputs": [
        {
          "output_type": "stream",
          "name": "stdout",
          "text": [
            "Etiketlerin maksimum değeri (y_train): 7\n",
            "Etiketlerin maksimum değeri (y_test): 7\n",
            "Düzenlenmiş etiketlerin maksimum değeri (y_train): 6\n",
            "Düzenlenmiş etiketlerin maksimum değeri (y_test): 6\n"
          ]
        }
      ]
    },
    {
      "cell_type": "code",
      "source": [
        "# Callback'ler\n",
        "early_stopping = EarlyStopping(monitor='val_loss', patience=10, restore_best_weights=True)\n",
        "lr_reduction = LearningRateScheduler(lr_scheduler)"
      ],
      "metadata": {
        "id": "LLWIoUjnvG81"
      },
      "execution_count": 10,
      "outputs": []
    },
    {
      "cell_type": "code",
      "source": [
        "history = model.fit(\n",
        "    data_augmentation.flow(X_train, y_train, batch_size=32),\n",
        "    epochs=50,\n",
        "    validation_data=(X_test, y_test),\n",
        "    callbacks=[early_stopping, lr_reduction]\n",
        ")\n"
      ],
      "metadata": {
        "id": "UCCyGoOhRU2O",
        "colab": {
          "base_uri": "https://localhost:8080/"
        },
        "outputId": "014ef85b-7928-4a6f-d177-ccc0ae78e129"
      },
      "execution_count": null,
      "outputs": [
        {
          "output_type": "stream",
          "name": "stdout",
          "text": [
            "Epoch 1/50\n"
          ]
        },
        {
          "output_type": "stream",
          "name": "stderr",
          "text": [
            "/usr/local/lib/python3.10/dist-packages/keras/src/trainers/data_adapters/py_dataset_adapter.py:122: UserWarning: Your `PyDataset` class should call `super().__init__(**kwargs)` in its constructor. `**kwargs` can include `workers`, `use_multiprocessing`, `max_queue_size`. Do not pass these arguments to `fit()`, as they will be ignored.\n",
            "  self._warn_if_super_not_called()\n"
          ]
        },
        {
          "output_type": "stream",
          "name": "stdout",
          "text": [
            "\u001b[1m1044/1044\u001b[0m \u001b[32m━━━━━━━━━━━━━━━━━━━━\u001b[0m\u001b[37m\u001b[0m \u001b[1m403s\u001b[0m 335ms/step - accuracy: 0.3123 - loss: 1.7352 - val_accuracy: 0.6519 - val_loss: 0.9773 - learning_rate: 1.0000e-04\n",
            "Epoch 2/50\n",
            "\u001b[1m1044/1044\u001b[0m \u001b[32m━━━━━━━━━━━━━━━━━━━━\u001b[0m\u001b[37m\u001b[0m \u001b[1m310s\u001b[0m 294ms/step - accuracy: 0.6571 - loss: 0.9539 - val_accuracy: 0.7151 - val_loss: 0.8209 - learning_rate: 1.0000e-04\n",
            "Epoch 3/50\n",
            "\u001b[1m1044/1044\u001b[0m \u001b[32m━━━━━━━━━━━━━━━━━━━━\u001b[0m\u001b[37m\u001b[0m \u001b[1m312s\u001b[0m 297ms/step - accuracy: 0.7441 - loss: 0.7146 - val_accuracy: 0.7412 - val_loss: 0.7525 - learning_rate: 1.0000e-04\n",
            "Epoch 4/50\n",
            "\u001b[1m 558/1044\u001b[0m \u001b[32m━━━━━━━━━━\u001b[0m\u001b[37m━━━━━━━━━━\u001b[0m \u001b[1m2:21\u001b[0m 292ms/step - accuracy: 0.7927 - loss: 0.5836"
          ]
        }
      ]
    },
    {
      "cell_type": "code",
      "source": [
        "# Modeli test etme\n",
        "test_loss, test_accuracy = model.evaluate(X_test, y_test)\n",
        "print(f\"Test Doğruluğu: {test_accuracy * 100:.2f}%\")"
      ],
      "metadata": {
        "id": "AJS3rnobmNRX"
      },
      "execution_count": null,
      "outputs": []
    },
    {
      "cell_type": "code",
      "source": [
        "# Modelin tahminlerini değerlendirme\n",
        "y_pred = model.predict(X_test)\n",
        "y_pred_classes = np.argmax(y_pred, axis=1)\n",
        "\n",
        "# y_test is already a 1D array of true labels, no need for argmax\n",
        "y_true_classes = y_test"
      ],
      "metadata": {
        "id": "8CRMTL21RWuY"
      },
      "execution_count": null,
      "outputs": []
    },
    {
      "cell_type": "code",
      "source": [
        "# Hata Matrisi ve Sınıflandırma Raporu\n",
        "cm = confusion_matrix(y_true_classes, y_pred_classes)\n",
        "print(\"Confusion Matrix:\\n\", cm)\n",
        "print(\"Classification Report:\\n\", classification_report(y_true_classes, y_pred_classes))"
      ],
      "metadata": {
        "id": "TuUDf7w4RYQm"
      },
      "execution_count": null,
      "outputs": []
    },
    {
      "cell_type": "code",
      "source": [
        "# Confusion matrix görselleştirme\n",
        "import seaborn as sns\n",
        "plt.figure(figsize=(10, 8))\n",
        "sns.heatmap(cm, annot=True, fmt=\"d\", cmap=\"Blues\", xticklabels=range(num_classes), yticklabels=range(num_classes))\n",
        "plt.xlabel(\"Tahmin Edilen\")\n",
        "plt.ylabel(\"Gerçek\")\n",
        "plt.show()"
      ],
      "metadata": {
        "id": "kqx-_wJQRZfR"
      },
      "execution_count": null,
      "outputs": []
    },
    {
      "cell_type": "code",
      "source": [
        "# Eğitim kaybı ve doğruluk grafiği çizme\n",
        "def plot_learning_curves(history):\n",
        "    plt.figure(figsize=(12, 4))\n",
        "    plt.plot(history.history['accuracy'], label='Eğitim Doğruluğu')\n",
        "    plt.plot(history.history['val_accuracy'], label='Doğrulama Doğruluğu')\n",
        "    plt.title(\"Eğitim ve Doğrulama Doğruluğu\")\n",
        "    plt.xlabel(\"Epoch\")\n",
        "    plt.ylabel(\"Doğruluk\")\n",
        "    plt.legend()\n",
        "    plt.show()\n",
        "\n",
        "plot_learning_curves(history)"
      ],
      "metadata": {
        "id": "4pvWcSEvvQUs"
      },
      "execution_count": null,
      "outputs": []
    },
    {
      "cell_type": "code",
      "source": [
        "# Modeli kaydetme\n",
        "model.save(\"emotion_recognition_model.h5\")\n",
        "print(\"Model başarıyla kaydedildi.\")\n"
      ],
      "metadata": {
        "id": "3wKuIx4BcdgS"
      },
      "execution_count": null,
      "outputs": []
    },
    {
      "cell_type": "code",
      "source": [
        "# Modeli yükleme\n",
        "model_path = \"/content/emotion_recognition_model.h5\"\n",
        "model = load_model(model_path)\n",
        "\n",
        "# Test CSV dosyasını yükleme\n",
        "test_csv_path = \"/content/drive/MyDrive/Yapay Zeka Bilişsel Sİstemler Dersi Proje/RAF-DB-DATASET/test_labels.csv\"\n",
        "test_data = pd.read_csv(test_csv_path)\n",
        "\n",
        "# Rastgele bir görüntü seçme\n",
        "random_row = test_data.sample(n=1).iloc[0]\n",
        "test_image_name = random_row['image']\n",
        "correct_label = random_row['label']\n",
        "\n",
        "# Görüntü yolunu oluşturma\n",
        "test_image_path = os.path.join(\"/content/RAF-DB-DATASET/DATASET/test\", str(correct_label), test_image_name)\n",
        "print(f\"Test edilecek görüntü: {test_image_path}\")\n",
        "\n",
        "# Görüntüyü yükleme ve işleme\n",
        "img = load_img(test_image_path, target_size=(224, 224))  # Görüntüyü yükle ve boyutlandır\n",
        "img_array = img_to_array(img) / 255.0  # Normalizasyon\n",
        "img_array = np.expand_dims(img_array, axis=0)  # Modelin tahmini için batch boyutuna dönüştür\n",
        "\n",
        "# Görüntü üzerinde tahmin yapma\n",
        "predictions = model.predict(img_array)\n",
        "predicted_class = np.argmax(predictions)\n",
        "\n",
        "# Sınıf etiketleri\n",
        "emotion_labels = {0: \"Surprise\", 1: \"Fear\", 2: \"Disgust\", 3: \"Happy\", 4: \"Sad\", 5: \"Anger\", 6: \"Neutral\"}\n",
        "predicted_label = emotion_labels[predicted_class]\n",
        "\n",
        "# Tahminin görselleştirilmesi\n",
        "plt.imshow(load_img(test_image_path))  # Görüntüyü yükleyerek görselleştir\n",
        "plt.title(f\"Tahmin: {predicted_label}\")\n",
        "plt.axis(\"off\")\n",
        "plt.show()\n",
        "\n",
        "print(f\"Modelin tahmini: {predicted_label}\")"
      ],
      "metadata": {
        "id": "eL2_M8cgCf3R"
      },
      "execution_count": null,
      "outputs": []
    }
  ]
}